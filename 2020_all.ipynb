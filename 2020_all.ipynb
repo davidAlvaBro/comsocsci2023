{
 "cells": [
  {
   "cell_type": "code",
   "execution_count": 1,
   "metadata": {
    "collapsed": true
   },
   "outputs": [],
   "source": [
    "from bs4 import BeautifulSoup\n",
    "import requests\n",
    "import re\n",
    "import pandas as pd\n",
    "import requests\n",
    "import urllib3"
   ]
  },
  {
   "cell_type": "code",
   "execution_count": 2,
   "outputs": [],
   "source": [
    "#Setup\n",
    "requests.packages.urllib3.disable_warnings()\n",
    "requests.packages.urllib3.util.ssl_.DEFAULT_CIPHERS += ':HIGH:!DH:!aNULL'\n",
    "try:\n",
    "    requests.packages.urllib3.contrib.pyopenssl.util.ssl_.DEFAULT_CIPHERS += ':HIGH:!DH:!aNULL'\n",
    "except AttributeError:\n",
    "    # no pyopenssl support used / needed / available\n",
    "    pass"
   ],
   "metadata": {
    "collapsed": false
   }
  },
  {
   "cell_type": "code",
   "execution_count": 3,
   "outputs": [],
   "source": [
    "Link = \"https://ic2s2.mit.edu/program\"\n",
    "req = requests.get(Link, verify= False)\n",
    "soup = BeautifulSoup(req.content, features=\"html.parser\")\n",
    "#Ren træning, kunne bare kopiere det rigtige link\n",
    "text = soup.find(\"div\", {\"class\": \"article-content\"})\n",
    "str_text = str(text).split(\"src=\")\n",
    "docs_link = str_text[-1].split(\" \")[0][1:-1]"
   ],
   "metadata": {
    "collapsed": false
   }
  },
  {
   "cell_type": "code",
   "execution_count": null,
   "outputs": [],
   "source": [
    "r = requests.get(docs_link)\n",
    "soup = BeautifulSoup(r.content, features=\"html.parser\")\n",
    "table = soup.find(\"table\", {\"class\": \"waffle\"})\n",
    "table_rows = table.find_all(\"tr\")\n",
    "ths = table_rows[0].find_all('th')\n",
    "header = [th.text.replace(\"\\n\",\"\") for th in ths]\n",
    "\n",
    "#HERE I GET THE ROWS\n",
    "rows = []\n",
    "for tr in table_rows[1:]:\n",
    "    tds = tr.find_all('td')\n",
    "    row = [td.text.replace(\"\\n\",\"\") for td in tds]\n",
    "    rows.append(row)"
   ],
   "metadata": {
    "collapsed": false,
    "pycharm": {
     "is_executing": true
    }
   }
  },
  {
   "cell_type": "code",
   "execution_count": 75,
   "outputs": [
    {
     "name": "stdout",
     "output_type": "stream",
     "text": [
      "1389 990\n"
     ]
    }
   ],
   "source": [
    "df = pd.DataFrame(rows, columns=header[0:5])\n",
    "names_plus = [name.split(', ') for name in list(df.iloc[:,2][1:])]\n",
    "names = []\n",
    "for name in names_plus:\n",
    "    for n in name:\n",
    "        if len(n) :\n",
    "            names.append(n)\n",
    "print(len(names), len(set(names)))"
   ],
   "metadata": {
    "collapsed": false
   }
  },
  {
   "cell_type": "code",
   "execution_count": null,
   "outputs": [],
   "source": [],
   "metadata": {
    "collapsed": false,
    "pycharm": {
     "is_executing": true
    }
   }
  },
  {
   "cell_type": "code",
   "execution_count": 33,
   "outputs": [],
   "source": [],
   "metadata": {
    "collapsed": false
   }
  }
 ],
 "metadata": {
  "kernelspec": {
   "display_name": "Python 3",
   "language": "python",
   "name": "python3"
  },
  "language_info": {
   "codemirror_mode": {
    "name": "ipython",
    "version": 2
   },
   "file_extension": ".py",
   "mimetype": "text/x-python",
   "name": "python",
   "nbconvert_exporter": "python",
   "pygments_lexer": "ipython2",
   "version": "2.7.6"
  }
 },
 "nbformat": 4,
 "nbformat_minor": 0
}
