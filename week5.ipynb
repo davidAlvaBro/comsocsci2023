{
 "cells": [
  {
   "cell_type": "code",
   "execution_count": 47,
   "metadata": {},
   "outputs": [],
   "source": [
    "import pandas as pd\n",
    "import ast\n",
    "import networkx as nx\n",
    "import numpy as np\n",
    "from tqdm import tqdm\n",
    "import netwulf\n",
    "import matplotlib.pyplot as plt "
   ]
  },
  {
   "cell_type": "code",
   "execution_count": 48,
   "metadata": {},
   "outputs": [],
   "source": [
    "# Load graph \n",
    "CSS_graph = nx.read_graphml('CSS_graph.graphml')"
   ]
  },
  {
   "cell_type": "code",
   "execution_count": 49,
   "metadata": {},
   "outputs": [],
   "source": [
    "# Get the Giant component \n",
    "CSS_graph_cc = sorted(nx.connected_components(CSS_graph), key=len, reverse=True)\n",
    "giant = CSS_graph.subgraph(CSS_graph_cc[0])"
   ]
  },
  {
   "cell_type": "code",
   "execution_count": 50,
   "metadata": {},
   "outputs": [
    {
     "data": {
      "text/plain": [
       "<networkx.classes.graph.Graph at 0x20d3cd5a670>"
      ]
     },
     "execution_count": 50,
     "metadata": {},
     "output_type": "execute_result"
    }
   ],
   "source": [
    "giant"
   ]
  },
  {
   "cell_type": "code",
   "execution_count": 51,
   "metadata": {},
   "outputs": [],
   "source": [
    "# Visualize the largest component TODO make this work!?\n",
    "# netwulf.interactive.visualize(giant)"
   ]
  },
  {
   "attachments": {},
   "cell_type": "markdown",
   "metadata": {},
   "source": [
    "### Part 3 "
   ]
  },
  {
   "cell_type": "code",
   "execution_count": 52,
   "metadata": {},
   "outputs": [],
   "source": [
    "def plot_one_hist_of_many(data, name=None, log = False, remove_empty = False, n_bins = 50, density=False, ax=None):\n",
    "    \"\"\"\n",
    "    \n",
    "    \"\"\"\n",
    "    # Show figure \n",
    "    plot = False\n",
    "    \n",
    "    # Setup. Creating bins according to the given data\n",
    "    if log:\n",
    "        bins = np.logspace(np.log10(max(1, int(min(data)))), max(1, np.log10(np.ceil(max(data)) + int(max(data)/20))), n_bins)\n",
    "        hist, edges = np.histogram(data, bins = bins, density=True) # Probability density to not penalise the first bins for being smaller.\n",
    "    else:\n",
    "        bins = np.linspace(int(min(data)), np.ceil(max(data)) + int(max(data)/20), n_bins)\n",
    "        hist, edges = np.histogram(data, bins = bins, density=density)\n",
    "\n",
    "    x = (edges[:-1] + edges[1:])/2\n",
    "\n",
    "    # Create the plot\n",
    "    if ax == None: \n",
    "        plot = True # only show figure if not given an ax \n",
    "        fig, ax = plt.subplots()\n",
    "\n",
    "    # Remove bins without any points in\n",
    "    if remove_empty:\n",
    "        xx,yy = zip(*[(i,j) for (i,j) in zip(x, hist) if j > 0])\n",
    "        # ax.bar(xx, yy, width = width)\n",
    "        ax.plot(xx,yy, marker = '.')\n",
    "    else:\n",
    "        #ax.bar(x, hist, width = width * 0.98)\n",
    "        ax.plot(x, hist, marker = '.')\n",
    "    \n",
    "    # Only plot if it is the only one (otherwise the titles do not make sense)\n",
    "    if plot: \n",
    "        ax.set_title(f'Probability density function for {name}')\n",
    "        ax.set_xlabel(name)\n",
    "    \n",
    "    #Sets the histogram to log-log scale\n",
    "    if log:\n",
    "        ax.set_ylabel('Probability density')\n",
    "        ax.set_xscale('log')\n",
    "        ax.set_yscale('log')\n",
    "    else: \n",
    "        ax.set_ylabel('Counts')\n",
    "        \n",
    "    if plot: plt.show()"
   ]
  },
  {
   "attachments": {},
   "cell_type": "markdown",
   "metadata": {},
   "source": [
    "#### 2.1 "
   ]
  },
  {
   "attachments": {},
   "cell_type": "markdown",
   "metadata": {},
   "source": [
    "Random Network: In this exercise we will create a Random Network as a \"null model\" to investigate some properties of the Computational Social Scientists Network.\n",
    "\n",
    "Compute the value of p such that the number of expected edges of the random network equals the number of edges in the Computational Social Scientists network (see equation 3.2 in your Network Science Book). What is the value of p? Compute the average value of the degree < k > (using the formula).\n",
    "Use : $$L = p N(N-1)/2 \\iff 2*L/(N^2 - N) = p$$"
   ]
  },
  {
   "cell_type": "code",
   "execution_count": 53,
   "metadata": {},
   "outputs": [
    {
     "name": "stdout",
     "output_type": "stream",
     "text": [
      "p = 0.00027798201811642467, k = 2.981635126316771\n"
     ]
    }
   ],
   "source": [
    "# Compute p \n",
    "p = 2 * CSS_graph.number_of_edges() / (CSS_graph.number_of_nodes()** 2 - CSS_graph.number_of_nodes()) \n",
    "k = p * (CSS_graph.number_of_nodes() - 1)\n",
    "print(f\"p = {p}, k = {k}\")"
   ]
  },
  {
   "attachments": {},
   "cell_type": "markdown",
   "metadata": {},
   "source": [
    "Create a Random network with the same number of nodes as the Computational Social Scientists networks, and p as computed above. Generate a random network by linking nodes in every possible pair with probability p. Hint: you can use the function np.random.uniform to draw samples from a uniform probability distribution."
   ]
  },
  {
   "cell_type": "code",
   "execution_count": 54,
   "metadata": {},
   "outputs": [],
   "source": [
    "# Make the random graph \n",
    "random_graph = nx.erdos_renyi_graph(CSS_graph.number_of_nodes(), p)"
   ]
  },
  {
   "cell_type": "code",
   "execution_count": 55,
   "metadata": {},
   "outputs": [],
   "source": [
    "# Check if the graph has the right attributes, \n",
    "# 2 * random_graph.number_of_edges() / (CSS_graph.number_of_nodes()** 2 - CSS_graph.number_of_nodes()) # "
   ]
  },
  {
   "attachments": {},
   "cell_type": "markdown",
   "metadata": {},
   "source": [
    "Visualize the network as you did for the Computational Social Scientists network in the exercise above (my version is below). Comment on the differences between the two."
   ]
  },
  {
   "cell_type": "code",
   "execution_count": 56,
   "metadata": {},
   "outputs": [],
   "source": [
    "# TODO does not work "
   ]
  },
  {
   "attachments": {},
   "cell_type": "markdown",
   "metadata": {},
   "source": [
    "#### 2.2 "
   ]
  },
  {
   "attachments": {},
   "cell_type": "markdown",
   "metadata": {},
   "source": [
    "Degree Distribution: In this exercise, we will compare the degree distribution of the real network and its random counterpart.\n",
    "\n",
    "Compute the distribution of degree for the random network using the numpy function np.histogram. Bin your histogram using 10 linearly spaced bins. Remember to pass the parameter density=True.\n",
    "\n",
    "Compute the distribution of degree for the Computational Social Scientists network using the numpy function np.histogram. Bin your histogram using 10 logarithmically spaced bins. Remember to pass the parameter density=True."
   ]
  },
  {
   "cell_type": "code",
   "execution_count": 57,
   "metadata": {},
   "outputs": [
    {
     "data": {
      "image/png": "[encoded data removed]",
      "text/plain": [
       "<Figure size 432x288 with 1 Axes>"
      ]
     },
     "metadata": {
      "needs_background": "light"
     },
     "output_type": "display_data"
    }
   ],
   "source": [
    "random_graph_degrees = list(dict(random_graph.degree()).values())\n",
    "CSS_graph_degrees = list(dict(CSS_graph.degree()).values())\n",
    "\n",
    "fig, ax = plt.subplots()\n",
    "\n",
    "plot_one_hist_of_many(CSS_graph_degrees, remove_empty=True, density=True, log=True, ax=ax)\n",
    "plot_one_hist_of_many(random_graph_degrees, remove_empty=True, density=True, log=True, ax=ax)\n",
    "ax.legend([\"CSS\", \"Random\"])\n",
    "ax.set_xlabel(\"Degree (amount of coauthors)\")\n",
    "plt.show()"
   ]
  },
  {
   "attachments": {},
   "cell_type": "markdown",
   "metadata": {},
   "source": [
    "Comment the figure. What are the differences between the two distributions? Why did I ask you to use two different types of binning?\n",
    "\n",
    "TODO comment "
   ]
  },
  {
   "attachments": {},
   "cell_type": "markdown",
   "metadata": {},
   "source": [
    "What is the average degree of the random and the real network? Comment on the relation between the two.\n",
    "\n",
    "TODO comment "
   ]
  },
  {
   "cell_type": "code",
   "execution_count": 58,
   "metadata": {},
   "outputs": [
    {
     "name": "stdout",
     "output_type": "stream",
     "text": [
      "Average degree of CSS graph 2.9816351263167706, average degree of random graph 2.9434138156054814\n"
     ]
    }
   ],
   "source": [
    "print(f\"Average degree of CSS graph {np.mean(CSS_graph_degrees)}, average degree of random graph {np.mean(random_graph_degrees)}\")"
   ]
  },
  {
   "attachments": {},
   "cell_type": "markdown",
   "metadata": {},
   "source": [
    "#### 2.3 "
   ]
  },
  {
   "attachments": {},
   "cell_type": "markdown",
   "metadata": {},
   "source": [
    "Shortest Paths: Here, we will check if the Computational Social Scientists Network is a small-world Network.\n",
    "\n",
    "Compute the average shortest path for the largest connected component of the Computational Social Scientists network (for a reminder of the definition of connected components, check section 2.9 of the Network Science book). You can use the following steps:\n",
    "Use nx.algorithms.connected_components to find all connected components (it returns a list of subsets of the original set of nodes).\n",
    "Consider the largest subset of nodes found in the step above. Build the subgraph of your original network containing those nodes exclusively, using nx.Graph.subgraph. This corresponds to your largest connected component (a.k.a giant component).\n",
    "\n",
    "Compute the average shortest path length of the giant component using nx.average_shortest_path_length"
   ]
  },
  {
   "cell_type": "code",
   "execution_count": 59,
   "metadata": {},
   "outputs": [
    {
     "data": {
      "text/plain": [
       "7.250517168544178"
      ]
     },
     "execution_count": 59,
     "metadata": {},
     "output_type": "execute_result"
    }
   ],
   "source": [
    "nx.average_shortest_path_length(giant)"
   ]
  },
  {
   "attachments": {},
   "cell_type": "markdown",
   "metadata": {},
   "source": [
    "Compute the average shortest path length for the giant component of the random network you built in exercise 2.1."
   ]
  },
  {
   "cell_type": "code",
   "execution_count": 60,
   "metadata": {},
   "outputs": [],
   "source": [
    "# Find giant component again \n",
    "random_graph_cc = sorted(nx.connected_components(random_graph), key=len, reverse=True)\n",
    "random_giant = random_graph.subgraph(random_graph_cc[0])\n",
    "\n",
    "# Compute average shortest path \n",
    "nx.average_shortest_path_length(random_giant)"
   ]
  }
 ],
 "metadata": {
  "kernelspec": {
   "display_name": "base",
   "language": "python",
   "name": "python3"
  },
  "language_info": {
   "codemirror_mode": {
    "name": "ipython",
    "version": 3
   },
   "file_extension": ".py",
   "mimetype": "text/x-python",
   "name": "python",
   "nbconvert_exporter": "python",
   "pygments_lexer": "ipython3",
   "version": "3.9.7"
  },
  "orig_nbformat": 4
 },
 "nbformat": 4,
 "nbformat_minor": 2
}
