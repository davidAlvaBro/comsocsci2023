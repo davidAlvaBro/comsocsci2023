{
 "cells": [
  {
   "cell_type": "code",
   "execution_count": 1,
   "metadata": {},
   "outputs": [],
   "source": [
    "import pandas as pd\n",
    "import ast\n",
    "import networkx as nx\n",
    "import numpy as np\n",
    "from tqdm import tqdm\n",
    "import netwulf\n",
    "import matplotlib.pyplot as plt "
   ]
  },
  {
   "cell_type": "code",
   "execution_count": 2,
   "metadata": {},
   "outputs": [],
   "source": [
    "# Load graph \n",
    "CSS_graph = nx.read_graphml('CSS_graph.graphml')"
   ]
  },
  {
   "cell_type": "code",
   "execution_count": 3,
   "metadata": {},
   "outputs": [],
   "source": [
    "# Get the Giant component \n",
    "CSS_graph_cc = sorted(nx.connected_components(CSS_graph), key=len, reverse=True)\n",
    "giant = CSS_graph.subgraph(CSS_graph_cc[0])"
   ]
  },
  {
   "cell_type": "code",
   "execution_count": 4,
   "metadata": {},
   "outputs": [
    {
     "data": {
      "text/plain": [
       "<networkx.classes.graph.Graph at 0x22f2bc73370>"
      ]
     },
     "execution_count": 4,
     "metadata": {},
     "output_type": "execute_result"
    }
   ],
   "source": [
    "giant"
   ]
  },
  {
   "cell_type": "code",
   "execution_count": 5,
   "metadata": {},
   "outputs": [],
   "source": [
    "# Visualize the largest component TODO make this work!?\n",
    "# netwulf.interactive.visualize(giant)"
   ]
  },
  {
   "attachments": {},
   "cell_type": "markdown",
   "metadata": {},
   "source": [
    "### Part 3 "
   ]
  },
  {
   "cell_type": "code",
   "execution_count": 6,
   "metadata": {},
   "outputs": [],
   "source": [
    "def plot_one_hist_of_many(data, name=None, log = False, remove_empty = False, n_bins = 50, density=False, ax=None):\n",
    "    \"\"\"\n",
    "    \n",
    "    \"\"\"\n",
    "    # Show figure \n",
    "    plot = False\n",
    "    \n",
    "    # Setup. Creating bins according to the given data\n",
    "    if log:\n",
    "        bins = np.logspace(np.log10(max(1, int(min(data)))), max(1, np.log10(np.ceil(max(data)) + int(max(data)/20))), n_bins)\n",
    "        hist, edges = np.histogram(data, bins = bins, density=True) # Probability density to not penalise the first bins for being smaller.\n",
    "    else:\n",
    "        bins = np.linspace(int(min(data)), np.ceil(max(data)) + int(max(data)/20), n_bins)\n",
    "        hist, edges = np.histogram(data, bins = bins, density=density)\n",
    "\n",
    "    x = (edges[:-1] + edges[1:])/2\n",
    "\n",
    "    # Create the plot\n",
    "    if ax == None: \n",
    "        plot = True # only show figure if not given an ax \n",
    "        fig, ax = plt.subplots()\n",
    "\n",
    "    # Remove bins without any points in\n",
    "    if remove_empty:\n",
    "        xx,yy = zip(*[(i,j) for (i,j) in zip(x, hist) if j > 0])\n",
    "        # ax.bar(xx, yy, width = width)\n",
    "        ax.plot(xx,yy, marker = '.')\n",
    "    else:\n",
    "        #ax.bar(x, hist, width = width * 0.98)\n",
    "        ax.plot(x, hist, marker = '.')\n",
    "    \n",
    "    # Only plot if it is the only one (otherwise the titles do not make sense)\n",
    "    if plot: \n",
    "        ax.set_title(f'Probability density function for {name}')\n",
    "        ax.set_xlabel(name)\n",
    "    \n",
    "    #Sets the histogram to log-log scale\n",
    "    if log:\n",
    "        ax.set_ylabel('Probability density')\n",
    "        ax.set_xscale('log')\n",
    "        ax.set_yscale('log')\n",
    "    else: \n",
    "        ax.set_ylabel('Counts')\n",
    "        \n",
    "    if plot: plt.show()"
   ]
  },
  {
   "attachments": {},
   "cell_type": "markdown",
   "metadata": {},
   "source": [
    "#### 2.1 "
   ]
  },
  {
   "attachments": {},
   "cell_type": "markdown",
   "metadata": {},
   "source": [
    "Random Network: In this exercise we will create a Random Network as a \"null model\" to investigate some properties of the Computational Social Scientists Network.\n",
    "\n",
    "Compute the value of p such that the number of expected edges of the random network equals the number of edges in the Computational Social Scientists network (see equation 3.2 in your Network Science Book). What is the value of p? Compute the average value of the degree < k > (using the formula).\n",
    "Use : $$L = p N(N-1)/2 \\iff 2*L/(N^2 - N) = p$$"
   ]
  },
  {
   "cell_type": "code",
   "execution_count": 7,
   "metadata": {},
   "outputs": [
    {
     "name": "stdout",
     "output_type": "stream",
     "text": [
      "p = 0.00027798201811642467, k = 2.981635126316771\n"
     ]
    }
   ],
   "source": [
    "# Compute p \n",
    "p = 2 * CSS_graph.number_of_edges() / (CSS_graph.number_of_nodes()** 2 - CSS_graph.number_of_nodes()) \n",
    "k = p * (CSS_graph.number_of_nodes() - 1)\n",
    "print(f\"p = {p}, k = {k}\")"
   ]
  },
  {
   "attachments": {},
   "cell_type": "markdown",
   "metadata": {},
   "source": [
    "Create a Random network with the same number of nodes as the Computational Social Scientists networks, and p as computed above. Generate a random network by linking nodes in every possible pair with probability p. Hint: you can use the function np.random.uniform to draw samples from a uniform probability distribution."
   ]
  },
  {
   "cell_type": "code",
   "execution_count": 8,
   "metadata": {},
   "outputs": [],
   "source": [
    "# Make the random graph \n",
    "random_graph = nx.erdos_renyi_graph(CSS_graph.number_of_nodes(), p)"
   ]
  },
  {
   "cell_type": "code",
   "execution_count": 9,
   "metadata": {},
   "outputs": [],
   "source": [
    "# Check if the graph has the right attributes, \n",
    "# 2 * random_graph.number_of_edges() / (CSS_graph.number_of_nodes()** 2 - CSS_graph.number_of_nodes()) # "
   ]
  },
  {
   "attachments": {},
   "cell_type": "markdown",
   "metadata": {},
   "source": [
    "Visualize the network as you did for the Computational Social Scientists network in the exercise above (my version is below). Comment on the differences between the two."
   ]
  },
  {
   "cell_type": "code",
   "execution_count": 10,
   "metadata": {},
   "outputs": [],
   "source": [
    "# TODO does not work "
   ]
  },
  {
   "attachments": {},
   "cell_type": "markdown",
   "metadata": {},
   "source": [
    "#### 2.2 "
   ]
  },
  {
   "attachments": {},
   "cell_type": "markdown",
   "metadata": {},
   "source": [
    "Degree Distribution: In this exercise, we will compare the degree distribution of the real network and its random counterpart.\n",
    "\n",
    "Compute the distribution of degree for the random network using the numpy function np.histogram. Bin your histogram using 10 linearly spaced bins. Remember to pass the parameter density=True.\n",
    "\n",
    "Compute the distribution of degree for the Computational Social Scientists network using the numpy function np.histogram. Bin your histogram using 10 logarithmically spaced bins. Remember to pass the parameter density=True."
   ]
  },
  {
   "cell_type": "code",
   "execution_count": 11,
   "metadata": {},
   "outputs": [
    {
     "data": {
      "image/png": "[encoded data removed]",
      "text/plain": [
       "<Figure size 432x288 with 1 Axes>"
      ]
     },
     "metadata": {
      "needs_background": "light"
     },
     "output_type": "display_data"
    }
   ],
   "source": [
    "random_graph_degrees = list(dict(random_graph.degree()).values())\n",
    "CSS_graph_degrees = list(dict(CSS_graph.degree()).values())\n",
    "\n",
    "fig, ax = plt.subplots()\n",
    "\n",
    "plot_one_hist_of_many(CSS_graph_degrees, remove_empty=True, density=True, log=True, ax=ax)\n",
    "plot_one_hist_of_many(random_graph_degrees, remove_empty=True, density=True, log=True, ax=ax)\n",
    "ax.legend([\"CSS\", \"Random\"])\n",
    "ax.set_xlabel(\"Degree (amount of coauthors)\")\n",
    "plt.show()"
   ]
  },
  {
   "attachments": {},
   "cell_type": "markdown",
   "metadata": {},
   "source": [
    "Comment the figure. What are the differences between the two distributions? Why did I ask you to use two different types of binning?\n",
    "\n",
    "TODO comment "
   ]
  },
  {
   "attachments": {},
   "cell_type": "markdown",
   "metadata": {},
   "source": [
    "What is the average degree of the random and the real network? Comment on the relation between the two.\n",
    "\n",
    "TODO comment "
   ]
  },
  {
   "cell_type": "code",
   "execution_count": 12,
   "metadata": {},
   "outputs": [
    {
     "name": "stdout",
     "output_type": "stream",
     "text": [
      "Average degree of CSS graph 2.9816351263167706, average degree of random graph 2.9984152139461173\n"
     ]
    }
   ],
   "source": [
    "print(f\"Average degree of CSS graph {np.mean(CSS_graph_degrees)}, average degree of random graph {np.mean(random_graph_degrees)}\")"
   ]
  },
  {
   "attachments": {},
   "cell_type": "markdown",
   "metadata": {},
   "source": [
    "#### 2.3 "
   ]
  },
  {
   "attachments": {},
   "cell_type": "markdown",
   "metadata": {},
   "source": [
    "Shortest Paths: Here, we will check if the Computational Social Scientists Network is a small-world Network.\n",
    "\n",
    "Compute the average shortest path for the largest connected component of the Computational Social Scientists network (for a reminder of the definition of connected components, check section 2.9 of the Network Science book). You can use the following steps:\n",
    "Use nx.algorithms.connected_components to find all connected components (it returns a list of subsets of the original set of nodes).\n",
    "Consider the largest subset of nodes found in the step above. Build the subgraph of your original network containing those nodes exclusively, using nx.Graph.subgraph. This corresponds to your largest connected component (a.k.a giant component).\n",
    "\n",
    "Compute the average shortest path length of the giant component using nx.average_shortest_path_length"
   ]
  },
  {
   "cell_type": "code",
   "execution_count": 13,
   "metadata": {},
   "outputs": [
    {
     "name": "stdout",
     "output_type": "stream",
     "text": [
      "7.250517168544178\n"
     ]
    }
   ],
   "source": [
    "avg_CSS_degree = nx.average_shortest_path_length(giant)\n",
    "print(avg_CSS_degree)"
   ]
  },
  {
   "attachments": {},
   "cell_type": "markdown",
   "metadata": {},
   "source": [
    "Compute the average shortest path length for the giant component of the random network you built in exercise 2.1."
   ]
  },
  {
   "cell_type": "code",
   "execution_count": 14,
   "metadata": {},
   "outputs": [
    {
     "name": "stdout",
     "output_type": "stream",
     "text": [
      "8.407122845984041\n"
     ]
    }
   ],
   "source": [
    "# Find giant component again \n",
    "random_graph_cc = sorted(nx.connected_components(random_graph), key=len, reverse=True)\n",
    "random_giant = random_graph.subgraph(random_graph_cc[0])\n",
    "\n",
    "# Compute average shortest path \n",
    "avg_random_degree = nx.average_shortest_path_length(random_giant)\n",
    "print(avg_random_degree)"
   ]
  },
  {
   "attachments": {},
   "cell_type": "markdown",
   "metadata": {},
   "source": [
    "Comment on the relation between the average shortest path length in the real and the random networks. Can you conclude that the small-world property apply to the Computational Social Scientists network?\n",
    "\n",
    "TODO comment "
   ]
  },
  {
   "attachments": {},
   "cell_type": "markdown",
   "metadata": {},
   "source": [
    "#### 2.4 "
   ]
  },
  {
   "attachments": {},
   "cell_type": "markdown",
   "metadata": {},
   "source": [
    "Clustering: Here, we will compare the clustering coefficient in the Computational Social Scientists Network and its random counterpart.\n",
    "\n",
    "Compute the clustering coefficient for all nodes in the random network, using the formula 2.15 in your book. Hint: To check your method, you can compare your results with those obtained using the networkx clustering function.\n",
    "\n",
    "$$C_i = 2*L_i / (k_i (k_i - 1))$$"
   ]
  },
  {
   "cell_type": "code",
   "execution_count": 22,
   "metadata": {},
   "outputs": [],
   "source": [
    "def clustering_coef(graph, node): \n",
    "    \"\"\"Calculate the clustering coefficient of \"node\" in \"graph\" \n",
    "\n",
    "    Args:\n",
    "        graph (networkX.graph): The graph in question\n",
    "        node (networkX.node): The node in \"graph\" in question\n",
    "\n",
    "    Returns:\n",
    "        C (float): The clustering coeffiecent of \"node\" in \"graph\" \n",
    "    \"\"\"\n",
    "    # Neighbors of node \n",
    "    neighbors = set(graph.neighbors(node)) \n",
    "    k = len(neighbors)\n",
    "    \n",
    "    # After making the neighbors their own graph all edges constitutes as a neighbor connecting to a neighbor\n",
    "    subgraph = graph.subgraph(neighbors)\n",
    "    L = subgraph.number_of_edges() \n",
    "    \n",
    "    # Calculate coeffient \n",
    "    C = 2*L/(k*(k-1)) if k > 1 else 0 \n",
    "    return C\n",
    "    "
   ]
  },
  {
   "cell_type": "code",
   "execution_count": 29,
   "metadata": {},
   "outputs": [],
   "source": [
    "def average_cluster_coef(graph): \n",
    "    \"\"\"Calculate the average clustering coefficient of \"graph\" \n",
    "\n",
    "    Args:\n",
    "        graph (networkX): The graph in question \n",
    "\n",
    "    Returns:\n",
    "        avg_c (float): Average clustering coefficient of \"graph\"\n",
    "    \"\"\"\n",
    "    # Take the sum of all clustering coefficients \n",
    "    cum_sum = 0 \n",
    "    for node in graph.nodes(): \n",
    "        cum_sum += clustering_coef(graph, node)\n",
    "        \n",
    "    # Take the average \n",
    "    avg_c = cum_sum / len(graph)\n",
    "    \n",
    "    return avg_c"
   ]
  },
  {
   "cell_type": "code",
   "execution_count": 30,
   "metadata": {},
   "outputs": [
    {
     "name": "stdout",
     "output_type": "stream",
     "text": [
      "The average cluster coefficient for the CSS graph is 0.6026236264543661\n",
      "The average cluster coefficient for the random graph is 0.00029631733409069395\n",
      "0.6026236264543661\n",
      "0.00029631733409069395\n"
     ]
    }
   ],
   "source": [
    "print(f\"The average cluster coefficient for the CSS graph is {average_cluster_coef(giant)}\")\n",
    "print(f\"The average cluster coefficient for the random graph is {average_cluster_coef(random_giant)}\") \n",
    "\n",
    "# Check if it is correct \n",
    "print(nx.average_clustering(giant))\n",
    "print(nx.average_clustering(random_giant))"
   ]
  },
  {
   "attachments": {},
   "cell_type": "markdown",
   "metadata": {},
   "source": [
    "Compute the average clustering across nodes of the random network. Is it consistent with the analytical prediction (network science book equation 3.21)?\n",
    "$$C_i = <k>/N = p$$\n",
    "\n",
    "Yes - pretty much "
   ]
  },
  {
   "cell_type": "code",
   "execution_count": 32,
   "metadata": {},
   "outputs": [
    {
     "name": "stdout",
     "output_type": "stream",
     "text": [
      "0.00027789245650716704\n"
     ]
    }
   ],
   "source": [
    "print(average_cluster_coef(random_graph))"
   ]
  },
  {
   "attachments": {},
   "cell_type": "markdown",
   "metadata": {},
   "source": [
    "Compute the average clustering coefficient for the Computational Social Scientists network. How does it compare to its random counterpart? Is it something you would expect? Why?\n",
    "\n",
    "TODO comment "
   ]
  },
  {
   "cell_type": "code",
   "execution_count": 33,
   "metadata": {},
   "outputs": [
    {
     "name": "stdout",
     "output_type": "stream",
     "text": [
      "0.39649440358920396\n"
     ]
    }
   ],
   "source": [
    "print(average_cluster_coef(CSS_graph))"
   ]
  }
 ],
 "metadata": {
  "kernelspec": {
   "display_name": "base",
   "language": "python",
   "name": "python3"
  },
  "language_info": {
   "codemirror_mode": {
    "name": "ipython",
    "version": 3
   },
   "file_extension": ".py",
   "mimetype": "text/x-python",
   "name": "python",
   "nbconvert_exporter": "python",
   "pygments_lexer": "ipython3",
   "version": "3.9.7"
  },
  "orig_nbformat": 4
 },
 "nbformat": 4,
 "nbformat_minor": 2
}
