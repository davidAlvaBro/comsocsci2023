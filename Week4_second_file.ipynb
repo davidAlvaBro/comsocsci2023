{
 "cells": [
  {
   "cell_type": "code",
   "execution_count": 10,
   "metadata": {
    "collapsed": true
   },
   "outputs": [],
   "source": [
    "import pandas as pd\n",
    "import ast\n",
    "import networkx as nx\n",
    "import numpy as np\n",
    "from tqdm import tqdm"
   ]
  },
  {
   "cell_type": "code",
   "execution_count": 11,
   "outputs": [],
   "source": [
    "df_CSS_papers = pd.read_csv('my_data/df_CSS_paper.csv')"
   ],
   "metadata": {
    "collapsed": false
   }
  },
  {
   "cell_type": "code",
   "execution_count": 14,
   "outputs": [],
   "source": [
    "author_list =  list(set([y for x in df_CSS_papers['authors'] for y in ast.literal_eval(x)]))\n",
    "author_pairs = set()\n",
    "\n",
    "for i, author in enumerate(author_list):\n",
    "    for colab in author_list[i + 1:]:\n",
    "        author_pairs.add((author, colab))\n",
    "author_pairs = list(author_pairs)"
   ],
   "metadata": {
    "collapsed": false
   }
  },
  {
   "cell_type": "code",
   "execution_count": null,
   "outputs": [
    {
     "name": "stderr",
     "output_type": "stream",
     "text": [
      "  3%|▎         | 10816/326028 [01:03<32:32, 161.45it/s]"
     ]
    }
   ],
   "source": [
    "weighted_edges = []\n",
    "for pair in tqdm(author_pairs):\n",
    "    counter = 0\n",
    "    for sublist in df_CSS_papers['authors']:\n",
    "        sublist = ast.literal_eval(sublist)\n",
    "        if pair[0] in sublist:\n",
    "            if pair[1] in sublist:\n",
    "                counter += 1\n",
    "    weighted_edges.append((*pair, counter))"
   ],
   "metadata": {
    "collapsed": false,
    "pycharm": {
     "is_executing": true
    }
   }
  },
  {
   "cell_type": "code",
   "execution_count": null,
   "outputs": [],
   "source": [
    "scc_graph = nx.Graph()\n",
    "scc_graph.add_weighted_edges_from(weighted_edges)"
   ],
   "metadata": {
    "collapsed": false
   }
  }
 ],
 "metadata": {
  "kernelspec": {
   "display_name": "Python 3",
   "language": "python",
   "name": "python3"
  },
  "language_info": {
   "codemirror_mode": {
    "name": "ipython",
    "version": 2
   },
   "file_extension": ".py",
   "mimetype": "text/x-python",
   "name": "python",
   "nbconvert_exporter": "python",
   "pygments_lexer": "ipython2",
   "version": "2.7.6"
  }
 },
 "nbformat": 4,
 "nbformat_minor": 0
}
