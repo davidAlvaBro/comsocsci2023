{
 "cells": [
  {
   "cell_type": "code",
   "execution_count": 147,
   "metadata": {
    "collapsed": true
   },
   "outputs": [],
   "source": [
    "import pandas as pd\n",
    "import ast\n",
    "import networkx as nx\n",
    "import numpy as np\n",
    "from tqdm import tqdm"
   ]
  },
  {
   "cell_type": "code",
   "execution_count": 148,
   "outputs": [],
   "source": [
    "df_CSS_papers = pd.read_csv('my_data/df_CSS_paper.csv')\n",
    "df_authors = pd.read_csv('my_data/df_author.csv')"
   ],
   "metadata": {
    "collapsed": false
   }
  },
  {
   "cell_type": "code",
   "execution_count": 149,
   "outputs": [],
   "source": [
    "def fix_authors(authors):\n",
    "    #Fix string, none type and type errors\n",
    "    authors = ast.literal_eval(authors)\n",
    "    authors = [i for i in author_list if i is not None]\n",
    "    authors = [int(ids) for ids in authors]\n",
    "    return authors"
   ],
   "metadata": {
    "collapsed": false
   }
  },
  {
   "cell_type": "code",
   "execution_count": 98,
   "outputs": [],
   "source": [
    "# Get unique authors\n",
    "authors = set()\n",
    "\n",
    "for i, paper in df_CSS_papers.iterrows():\n",
    "    paper_authors = set(ast.literal_eval(paper[\"authors\"]))\n",
    "    authors.update(paper_authors)\n",
    "\n",
    "if None in authors: # If none is in the author list\n",
    "    authors.remove(None)\n",
    "\n",
    "authors = set([int(id) for id in authors]) # convert strings to ints to compare them\n",
    "total_CSS_authors = set([int(author) for author in df_authors[\"id\"]])\n",
    "\n",
    "CSS_authors = authors & total_CSS_authors"
   ],
   "metadata": {
    "collapsed": false
   }
  },
  {
   "cell_type": "code",
   "execution_count": 99,
   "outputs": [],
   "source": [
    "# Generate unique pairs of authors\n",
    "author_list =  list(CSS_authors)\n",
    "author_list = [i for i in author_list if i is not None]\n",
    "author_pairs = list()\n",
    "\n",
    "for i, author in enumerate(author_list):\n",
    "    for colab in author_list[i + 1:]:\n",
    "        author_pairs.append((author, colab))\n"
   ],
   "metadata": {
    "collapsed": false
   }
  },
  {
   "cell_type": "code",
   "execution_count": 100,
   "outputs": [],
   "source": [
    "# Count the amount of times each pair have worked together\n",
    "\n",
    "# Setup dicts\n",
    "author_dict = {}\n",
    "author_list_sorted = sorted(author_list)\n",
    "for i, author in enumerate(author_list_sorted):\n",
    "    author_dict[author] = {}\n",
    "    for coauthor in author_list_sorted: #When sorted they aren't in the same order as the pairs\n",
    "        author, coauthor = int(author), int(coauthor)\n",
    "        author_dict[author][coauthor] = 0\n",
    "\n",
    "# Counting\n",
    "for authors in df_CSS_papers['authors']:\n",
    "    authors = ast.literal_eval(authors)\n",
    "\n",
    "    if len(authors) > 1:\n",
    "        if None in authors:\n",
    "            authors = [i for i in author_list if i is not None]\n",
    "\n",
    "        authors = [int(ids) for ids in authors]\n",
    "        authors = set(authors) & CSS_authors\n",
    "\n",
    "        sorted_authors = sorted(authors)\n",
    "        for i, author in enumerate(sorted_authors):\n",
    "                for coauthor in sorted_authors[i+1:]:\n",
    "                        author, coauthor = int(author), int(coauthor)\n",
    "                        author_dict[author][coauthor] += 1"
   ],
   "metadata": {
    "collapsed": false
   }
  },
  {
   "cell_type": "code",
   "execution_count": 101,
   "outputs": [],
   "source": [
    "#Creating weighted edges to use in network\n",
    "weighted_edges = []\n",
    "for pair in author_pairs:\n",
    "    weighted_edges.append((*pair, author_dict[pair[0]][pair[1]]))\n",
    "\n",
    "CSS_graph = nx.Graph()\n",
    "CSS_graph.add_weighted_edges_from(weighted_edges)"
   ],
   "metadata": {
    "collapsed": false
   }
  },
  {
   "cell_type": "code",
   "execution_count": 116,
   "outputs": [],
   "source": [
    "#Getting node atributes\n",
    "# First 2 atts\n",
    "author_atts = dict()\n",
    "\n",
    "for author in list(CSS_authors):\n",
    "    author_atts[author] = dict()\n",
    "\n",
    "    #Getting the name of each author\n",
    "    aliases = df_authors.loc[df_authors['id'] == author, 'aliases'].values[0]\n",
    "    if type(aliases) != list():\n",
    "        name = df_authors.loc[df_authors['id'] == author, 'name'].values[0]\n",
    "    else:\n",
    "        name = max(aliases, key=len) #Asume the true name is the longest alias\n",
    "    author_atts[author]['att1'] = name\n",
    "\n",
    "\n",
    "    field = df_authors.loc[df_authors['id'] == author, 'field'].values[0]\n",
    "    author_atts[author]['att2'] = field"
   ],
   "metadata": {
    "collapsed": false
   }
  },
  {
   "cell_type": "code",
   "execution_count": 145,
   "outputs": [],
   "source": [
    "#Last three atts\n",
    "\n",
    "citation_dict = {}\n",
    "amount_of_css_papers = {}\n",
    "first_paper_year = {}\n",
    "\n",
    "# Setup dicts\n",
    "for author in CSS_authors:\n",
    "    amount_of_css_papers[author] = 0\n",
    "    citation_dict[author] = []\n",
    "    first_paper_year[author] = np.inf # going for the first paper created from the author which much be eariler than inf\n",
    "\n",
    "# Counting the papers each author as contributed to\n",
    "for authors in df_CSS_papers['authors']:\n",
    "    authors = fix_authors(authors)\n",
    "    authors = set(authors) & CSS_authors\n",
    "\n",
    "    for author in authors:\n",
    "        amount_of_css_papers[author] += 1\n",
    "\n",
    "\n",
    "\n",
    "for i, paper in df_CSS_papers.iterrows():\n",
    "\n",
    "    authors = fix_authors(paper['authors'])\n",
    "    authors = set(authors) & CSS_authors\n",
    "\n",
    "    for author in authors:\n",
    "        # Citation count\n",
    "        citation_dict[author].append(paper['citationCount'])\n",
    "\n",
    "        #First paper\n",
    "        if paper['year'] < first_paper_year[author]:\n",
    "            first_paper_year[author] = paper['year']"
   ],
   "metadata": {
    "collapsed": false
   }
  },
  {
   "cell_type": "code",
   "execution_count": 146,
   "outputs": [],
   "source": [
    "# Create attribute\n",
    "for author in CSS_authors:\n",
    "\n",
    "    author_atts[author]['att3'] = np.median(citation_dict[author])\n",
    "    author_atts[author]['att4'] = amount_of_css_papers[author]\n",
    "    author_atts[author]['att5'] = first_paper_year[author]"
   ],
   "metadata": {
    "collapsed": false
   }
  },
  {
   "cell_type": "code",
   "execution_count": null,
   "outputs": [],
   "source": [
    "# Set node attributes\n",
    "nx.set_node_attributes(CSS_graph, author_atts)"
   ],
   "metadata": {
    "collapsed": false
   }
  }
 ],
 "metadata": {
  "kernelspec": {
   "display_name": "Python 3",
   "language": "python",
   "name": "python3"
  },
  "language_info": {
   "codemirror_mode": {
    "name": "ipython",
    "version": 2
   },
   "file_extension": ".py",
   "mimetype": "text/x-python",
   "name": "python",
   "nbconvert_exporter": "python",
   "pygments_lexer": "ipython2",
   "version": "2.7.6"
  }
 },
 "nbformat": 4,
 "nbformat_minor": 0
}
