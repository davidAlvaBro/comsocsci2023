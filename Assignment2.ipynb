{
 "cells": [
  {
   "attachments": {},
   "cell_type": "markdown",
   "metadata": {},
   "source": [
    "# Assignment 2\n",
    "Collaborators (Name, study id, github handle): <br />\n",
    "August Hertz Bugge - s194350 - libze<br />\n",
    "David Bro Ludvigsen - s204102 - davidAlvaBro<br />\n",
    "Sebastian Nicolai Fabricius Grut  - s204150 - Sebastiannfg\n",
    "\n",
    "Github : https://github.com/davidAlvaBro/comsocsci2023.git \n",
    "\n",
    "#### Contributions \n",
    "We collaborated as a group. We have had weekly meetings where we completed the weekly assignments together - everything has been discussed and made together. \n"
   ]
  },
  {
   "cell_type": "code",
   "execution_count": 10,
   "metadata": {},
   "outputs": [],
   "source": [
    "# Imports that will be used through the notebook\n",
    "import networkx as nx\n",
    "from tqdm import tqdm\n",
    "import random\n",
    "import matplotlib.pyplot as plt\n",
    "import numpy as np\n",
    "import pandas as pd\n",
    "\n",
    "DATA_PATH = \"my_data/\""
   ]
  },
  {
   "attachments": {},
   "cell_type": "markdown",
   "metadata": {},
   "source": [
    "## 1 Mixing Patterns and Assortativity"
   ]
  },
  {
   "attachments": {},
   "cell_type": "markdown",
   "metadata": {},
   "source": [
    "### For each node, compute the fraction of edges that connect to a node that works in the same top field. Find the average value across all nodes."
   ]
  },
  {
   "cell_type": "code",
   "execution_count": 11,
   "metadata": {},
   "outputs": [],
   "source": [
    "# Load the graph from week 4\n",
    "CSS_graph = nx.read_graphml(DATA_PATH + 'CSS_graph.graphml')"
   ]
  },
  {
   "cell_type": "code",
   "execution_count": 3,
   "metadata": {},
   "outputs": [],
   "source": [
    "# Function to calculate the fraction of neighbors that have the same attribute value\n",
    "def get_matching_att(graph, att):\n",
    "    \"\"\"\n",
    "    A function that calculates the fraction of neighbors that have the same attribute value\n",
    "    \n",
    "    Args:\n",
    "        graph (nx.Graph): The graph to be analyzed\n",
    "        att (str): The attribute to be analyzed\n",
    "    \n",
    "    Returns:\n",
    "        match_frac (dict): A dictionary with the fraction of neighbors that have the same attribute value\n",
    "    \"\"\"\n",
    "    match_frac = {}\n",
    "    for node in graph.nodes:\n",
    "        counter = 0\n",
    "        neighbors = len(list(graph.neighbors(node)))\n",
    "\n",
    "        if neighbors == 0: match_frac[node] = 0 # Have to check this, otherwise devising by zero\n",
    "\n",
    "        else:\n",
    "            for neighbor in graph.neighbors(node):\n",
    "                # Check if the attribute value is the same for the node and the neighbor\n",
    "                if nx.get_node_attributes(graph, att)[neighbor] == nx.get_node_attributes(graph, att)[node]:\n",
    "                    counter += 1\n",
    "\n",
    "            match_frac[node] = counter / neighbors\n",
    "\n",
    "    return match_frac\n"
   ]
  },
  {
   "cell_type": "code",
   "execution_count": 4,
   "metadata": {},
   "outputs": [
    {
     "name": "stdout",
     "output_type": "stream",
     "text": [
      "Average across all nodes 0.3559081424843902\n"
     ]
    }
   ],
   "source": [
    "# Get the average fraction of neighbors that have the same attribute value \n",
    "top_field_fracs = get_matching_att(CSS_graph, 'att2')\n",
    "\n",
    "print(f\"Average across all nodes {np.mean(list(top_field_fracs.values()))}\")"
   ]
  },
  {
   "attachments": {},
   "cell_type": "markdown",
   "metadata": {},
   "source": [
    "### Create a new graph, with the same nodes and edges, but where the association between nodes and field is shuffled. Compute the measure above for this randomized graph."
   ]
  },
  {
   "cell_type": "code",
   "execution_count": 6,
   "metadata": {},
   "outputs": [],
   "source": [
    "# Function that shuffles the attribute values of a graph\n",
    "def shuffle_node_att(graph, att):\n",
    "    \"\"\" \n",
    "    A function that shuffles the attribute values of a graph\n",
    "    \n",
    "    Args:\n",
    "        graph (nx.Graph): The graph to be analyzed\n",
    "        att (str): The attribute to be analyzed\n",
    "    \n",
    "    Returns: \n",
    "        graph (nx.Graph): The graph with shuffled attributes\n",
    "    \"\"\"\n",
    "    # Make dictionary with shuffled attributes\n",
    "    shuffled_atts = nx.get_node_attributes(graph, att)\n",
    "    temp = list(shuffled_atts.values())\n",
    "    random.shuffle(temp)\n",
    "    new_atts = dict(zip(shuffled_atts, temp))\n",
    "\n",
    "    # Set the shuffled attributes\n",
    "    nx.set_node_attributes(graph, new_atts, att)\n",
    "    \n",
    "    return graph\n"
   ]
  },
  {
   "cell_type": "code",
   "execution_count": 8,
   "metadata": {},
   "outputs": [
    {
     "name": "stdout",
     "output_type": "stream",
     "text": [
      "When the fields are randomly assigned, on average an auther has 0.2848694757379903 of their neighbors in the same field\n"
     ]
    }
   ],
   "source": [
    "# Make a copy of the graph and shuffle the attribute values\n",
    "CSS_graph_copy = CSS_graph.copy()\n",
    "CSS_graph_copy = shuffle_node_att(CSS_graph_copy, 'att2')\n",
    "\n",
    "print(f\"When the fields are randomly assigned, on average an auther has {np.mean(list(get_matching_att(CSS_graph_copy, 'att2').values()))} of their neighbors in the same field\")\n"
   ]
  },
  {
   "attachments": {},
   "cell_type": "markdown",
   "metadata": {},
   "source": [
    "### Repeat the point above 100 times (at least). Plot the distribution of the values obtained and compare it with the value you have found for the real graph. Is the chance to connect to a member of the same field significantly higher than it would be by chance?"
   ]
  },
  {
   "cell_type": "code",
   "execution_count": 12,
   "metadata": {},
   "outputs": [
    {
     "name": "stderr",
     "output_type": "stream",
     "text": [
      "  1%|▏         | 4/300 [27:30<33:54:14, 412.35s/it]"
     ]
    }
   ],
   "source": [
    "# Shuffles the graph attributes N times and stores the distribution of the average fraction of neighbors that have the same attribute value\n",
    "N = 300\n",
    "distribution = np.zeros(N)\n",
    "for i in tqdm(range(N)):\n",
    "    CSS_graph_copy = shuffle_node_att(CSS_graph_copy, 'att2')\n",
    "    avg = np.mean(list(get_matching_att(CSS_graph_copy, 'att2').values()))\n",
    "    distribution[i] = avg \n",
    "\n",
    "np.save(DATA_PATH + \"avg_same_field_distribution.npy\", distribution)"
   ]
  },
  {
   "cell_type": "code",
   "execution_count": null,
   "metadata": {},
   "outputs": [],
   "source": [
    "# Load the distribution if not in memory \n",
    "if 'distribution' not in locals():\n",
    "    distribution = np.load(DATA_PATH + \"avg_same_field_distribution.npy\")"
   ]
  },
  {
   "cell_type": "code",
   "execution_count": null,
   "metadata": {},
   "outputs": [],
   "source": [
    "# Setup for plot\n",
    "bins = 10\n",
    "avg_value = np.mean(list(top_field_fracs.values()))\n",
    "\n",
    "# Plot the distribution\n",
    "figure, ax = plt.subplots(1)\n",
    "\n",
    "ax.hist(distribution, density=True, bins=bins)\n",
    "ax.axvline(x=avg_value, color='r', label=f\"Mean value: {avg_value:.2f}\")\n",
    "ax.axvline(x=np.max(distribution), color='b', label=f\"Minimum value: {np.max(distribution):.2f}\")\n",
    "ax.legend()\n",
    "ax.title.set_text(\"Distribution of the average fraction of neighbors that have the same attribute value\")\n",
    "\n",
    "plt.show()"
   ]
  },
  {
   "attachments": {},
   "cell_type": "markdown",
   "metadata": {},
   "source": [
    "In the plot we see the distribution of the average fraction of coauthers of the same field each author has. The red line indicates our observed dataset as one datapoint, while the blue line indicates the largest value in the randomly generated datasets. \n",
    "\n",
    "We see that the observed average fraction of authors with the same field as the author in question is 0.356, but nothing close to this value has ever occured in the randomly generated data with 300 samples, this implies that the distribution of it stems from is significantly different than the randomly generated distribution. This is seen in the plot by the largest random value (the blue vertical line) being smaller than the observed value (the blue vertical line). \n",
    "\n",
    "In other words, authors tend to work together with authors of the same field. "
   ]
  }
 ],
 "metadata": {
  "kernelspec": {
   "display_name": "base",
   "language": "python",
   "name": "python3"
  },
  "language_info": {
   "codemirror_mode": {
    "name": "ipython",
    "version": 3
   },
   "file_extension": ".py",
   "mimetype": "text/x-python",
   "name": "python",
   "nbconvert_exporter": "python",
   "pygments_lexer": "ipython3",
   "version": "3.9.7"
  },
  "orig_nbformat": 4
 },
 "nbformat": 4,
 "nbformat_minor": 2
}
