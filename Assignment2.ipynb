{
 "cells": [
  {
   "attachments": {},
   "cell_type": "markdown",
   "metadata": {},
   "source": [
    "# Assignment 2\n",
    "Collaborators (Name, study id, github handle): <br />\n",
    "August Hertz Bugge - s194350 - libze<br />\n",
    "David Bro Ludvigsen - s204102 - davidAlvaBro<br />\n",
    "Sebastian Nicolai Fabricius Grut  - s204150 - Sebastiannfg\n",
    "\n",
    "Github : https://github.com/davidAlvaBro/comsocsci2023.git \n",
    "\n",
    "#### Contributions \n",
    "We collaborated as a group. We have had weekly meetings where we completed the weekly assignments together - everything has been discussed and made together. \n"
   ]
  },
  {
   "cell_type": "code",
   "execution_count": 31,
   "metadata": {},
   "outputs": [],
   "source": [
    "# Imports that will be used through the notebook\n",
    "import networkx as nx\n",
    "from tqdm import tqdm\n",
    "import random\n",
    "import matplotlib.pyplot as plt\n",
    "import matplotlib.colors as mcolors\n",
    "import numpy as np\n",
    "import pandas as pd\n",
    "import netwulf\n",
    "import copy\n",
    "import community\n",
    "\n",
    "DATA_PATH = \"my_data/\""
   ]
  },
  {
   "attachments": {},
   "cell_type": "markdown",
   "metadata": {},
   "source": [
    "## 1 Mixing Patterns and Assortativity"
   ]
  },
  {
   "attachments": {},
   "cell_type": "markdown",
   "metadata": {},
   "source": [
    "### For each node, compute the fraction of edges that connect to a node that works in the same top field. Find the average value across all nodes."
   ]
  },
  {
   "cell_type": "code",
   "execution_count": 32,
   "metadata": {},
   "outputs": [],
   "source": [
    "# Load the graph from week 4\n",
    "CSS_graph = nx.read_graphml(DATA_PATH + 'CSS_graph.graphml')\n",
    "\n",
    "# Only work on the largest connected component\n",
    "CSS_graph_cc = sorted(nx.connected_components(CSS_graph), key=len, reverse=True)\n",
    "CSS_giant = CSS_graph.subgraph(CSS_graph_cc[0])\n",
    "\n",
    "# Save the giant component\n",
    "nx.write_graphml(CSS_giant, DATA_PATH + 'CSS_giant.graphml')\n"
   ]
  },
  {
   "cell_type": "code",
   "execution_count": 33,
   "metadata": {},
   "outputs": [],
   "source": [
    "# Function to calculate the fraction of neighbors that have the same attribute value\n",
    "def get_matching_att(graph, att):\n",
    "    \"\"\"\n",
    "    A function that calculates the fraction of neighbors that have the same attribute value\n",
    "    \n",
    "    Args:\n",
    "        graph (nx.Graph): The graph to be analyzed\n",
    "        att (str): The attribute to be analyzed\n",
    "    \n",
    "    Returns:\n",
    "        match_frac (dict): A dictionary with the fraction of neighbors that have the same attribute value\n",
    "    \"\"\"\n",
    "    match_frac = {}\n",
    "    for node in graph.nodes:\n",
    "        counter = 0\n",
    "        neighbors = len(list(graph.neighbors(node)))\n",
    "\n",
    "        if neighbors == 0: match_frac[node] = 0 # Have to check this, otherwise devising by zero\n",
    "\n",
    "        else:\n",
    "            for neighbor in graph.neighbors(node):\n",
    "                # Check if the attribute value is the same for the node and the neighbor\n",
    "                if nx.get_node_attributes(graph, att)[neighbor] == nx.get_node_attributes(graph, att)[node]:\n",
    "                    counter += 1\n",
    "\n",
    "            match_frac[node] = counter / neighbors\n",
    "\n",
    "    return match_frac\n"
   ]
  },
  {
   "cell_type": "code",
   "execution_count": 34,
   "metadata": {},
   "outputs": [
    {
     "name": "stdout",
     "output_type": "stream",
     "text": [
      "Average across all nodes 0.46120194367733425\n"
     ]
    }
   ],
   "source": [
    "# Get the average fraction of neighbors that have the same attribute value \n",
    "top_field_fracs = get_matching_att(CSS_giant, 'att2')\n",
    "\n",
    "print(f\"Average across all nodes {np.mean(list(top_field_fracs.values()))}\")"
   ]
  },
  {
   "attachments": {},
   "cell_type": "markdown",
   "metadata": {},
   "source": [
    "### Create a new graph, with the same nodes and edges, but where the association between nodes and field is shuffled. Compute the measure above for this randomized graph."
   ]
  },
  {
   "cell_type": "code",
   "execution_count": 35,
   "metadata": {},
   "outputs": [],
   "source": [
    "# Function that shuffles the attribute values of a graph\n",
    "def shuffle_node_att(graph, att):\n",
    "    \"\"\" \n",
    "    A function that shuffles the attribute values of a graph\n",
    "    \n",
    "    Args:\n",
    "        graph (nx.Graph): The graph to be analyzed\n",
    "        att (str): The attribute to be analyzed\n",
    "    \n",
    "    Returns: \n",
    "        graph (nx.Graph): The graph with shuffled attributes\n",
    "    \"\"\"\n",
    "    # Make dictionary with shuffled attributes\n",
    "    shuffled_atts = nx.get_node_attributes(graph, att)\n",
    "    temp = list(shuffled_atts.values())\n",
    "    random.shuffle(temp)\n",
    "    new_atts = dict(zip(shuffled_atts, temp))\n",
    "\n",
    "    # Set the shuffled attributes\n",
    "    nx.set_node_attributes(graph, new_atts, att)\n",
    "    \n",
    "    return graph\n"
   ]
  },
  {
   "cell_type": "code",
   "execution_count": 7,
   "metadata": {},
   "outputs": [
    {
     "name": "stdout",
     "output_type": "stream",
     "text": [
      "When the fields are randomly assigned, on average an auther has 0.31534337937008455 of their neighbors in the same field\n"
     ]
    }
   ],
   "source": [
    "# Make a copy of the graph and shuffle the attribute values\n",
    "CSS_giant_copy = copy.deepcopy(CSS_giant)\n",
    "CSS_giant_copy = shuffle_node_att(CSS_giant_copy, 'att2')\n",
    "\n",
    "print(f\"When the fields are randomly assigned, on average an auther has {np.mean(list(get_matching_att(CSS_giant_copy, 'att2').values()))} of their neighbors in the same field\")\n"
   ]
  },
  {
   "attachments": {},
   "cell_type": "markdown",
   "metadata": {},
   "source": [
    "### Repeat the point above 100 times (at least). Plot the distribution of the values obtained and compare it with the value you have found for the real graph. Is the chance to connect to a member of the same field significantly higher than it would be by chance?"
   ]
  },
  {
   "cell_type": "code",
   "execution_count": 36,
   "metadata": {},
   "outputs": [],
   "source": [
    "try: \n",
    "    distribution = np.load(DATA_PATH + \"avg_same_field_distribution.npy\")\n",
    "except: \n",
    "    # Shuffles the graph attributes N times and stores the distribution of the average fraction of neighbors that have the same attribute value\n",
    "    N = 10 # TODO run this with more data \n",
    "    distribution = np.zeros(N)\n",
    "    for i in tqdm(range(N)):\n",
    "        CSS_giant_copy = shuffle_node_att(CSS_giant_copy, 'att2')\n",
    "        avg = np.mean(list(get_matching_att(CSS_giant_copy, 'att2').values()))\n",
    "        distribution[i] = avg \n",
    "\n",
    "    np.save(DATA_PATH + \"avg_same_field_distribution.npy\", distribution)"
   ]
  },
  {
   "cell_type": "code",
   "execution_count": 37,
   "metadata": {},
   "outputs": [],
   "source": [
    "# Load the distribution if not in memory \n",
    "if 'distribution' not in locals():\n",
    "    distribution = np.load(DATA_PATH + \"avg_same_field_distribution.npy\")"
   ]
  },
  {
   "cell_type": "code",
   "execution_count": 38,
   "metadata": {},
   "outputs": [
    {
     "data": {
      "image/png": "[encoded data removed]",
      "text/plain": [
       "<Figure size 432x288 with 1 Axes>"
      ]
     },
     "metadata": {
      "needs_background": "light"
     },
     "output_type": "display_data"
    }
   ],
   "source": [
    "# Setup for plot\n",
    "bins = 10\n",
    "avg_value = np.mean(list(top_field_fracs.values()))\n",
    "\n",
    "# Plot the distribution\n",
    "figure, ax = plt.subplots(1)\n",
    "\n",
    "ax.hist(distribution, density=True, bins=bins)\n",
    "ax.axvline(x=avg_value, color='r', label=f\"Observed value: {avg_value:.2f}\")\n",
    "ax.axvline(x=np.max(distribution), color='b', label=f\"Maximum random value: {np.max(distribution):.2f}\")\n",
    "ax.legend()\n",
    "ax.title.set_text(\"Distribution of the average fraction of neighbors that have the same attribute value\")\n",
    "\n",
    "plt.show()"
   ]
  },
  {
   "attachments": {},
   "cell_type": "markdown",
   "metadata": {},
   "source": [
    "In the plot we see the distribution of the average fraction of coauthers of the same field each author has. The red line indicates our observed dataset as one datapoint, while the blue line indicates the largest value in the randomly generated datasets. \n",
    "\n",
    "We see that the observed average fraction of authors with the same field as the author in question is 0.46, but nothing close to this value has ever occured in the randomly generated data with 300 samples, this implies that the distribution of it stems from is significantly different than the randomly generated distribution. This is seen in the plot by the largest random value (the blue vertical line) being smaller than the observed value (the blue vertical line). \n",
    "\n",
    "In other words, authors tend to work together with authors of the same field. "
   ]
  },
  {
   "attachments": {},
   "cell_type": "markdown",
   "metadata": {},
   "source": [
    "### Compute the assortativity coefficient with respect to author's field. How do you interpret the value you obtain?\n",
    "\n",
    "We use the formula stated; \n",
    "$$r = \\frac{Tr(e) - ||e^2||}{1 - ||e^2||}.$$\n",
    "\n",
    "First we compute $e$, that is we count each edge (twice) that goes from each author group to another to set up the matrix. Next we compute the trace, and at last we square the matrix and sum it. "
   ]
  },
  {
   "cell_type": "code",
   "execution_count": 39,
   "metadata": {},
   "outputs": [],
   "source": [
    "# This method generates the matrix used to calculate the association for a given attribute. \n",
    "# It is correosponding to the function attribute_mixing_matrix in the networkx package\n",
    "def get_mixing_matrix(graph, att):\n",
    "    \"\"\"\n",
    "    A function that calculates the matrix of the fraction of edges between fields.\n",
    "    Assumes that the graph is undirected.\n",
    "    \n",
    "    Args:\n",
    "        graph (nx.Graph): The graph to be analyzed\n",
    "        att (str): The attribute to be analyzed\n",
    "    \n",
    "    Returns:\n",
    "        E (np.array): The matrix of the fraction of edges between fields\n",
    "        list_of_fields (dict): A dictionary with the fields as keys and the index of the field in the matrix as values\n",
    "    \"\"\"\n",
    "    # Get dimensions of matrix\n",
    "    list_of_fields = {field: i for i, field in enumerate(set(nx.get_node_attributes(graph, att).values()))}\n",
    "    E = np.zeros((len(list_of_fields), len(list_of_fields)))\n",
    "\n",
    "    # Fill the matrix/dictionary\n",
    "    for edge in tqdm(graph.edges):\n",
    "        # Get the field of the node at the ends of the edge \n",
    "        node_1_field = nx.get_node_attributes(graph, att)[edge[0]]\n",
    "        node_2_field = nx.get_node_attributes(graph, att)[edge[1]]\n",
    "        # To make the matrix symetric, we add the value to both fields\n",
    "        E[list_of_fields[node_1_field], list_of_fields[node_2_field]] += 1\n",
    "        E[list_of_fields[node_2_field], list_of_fields[node_1_field]] += 1\n",
    "    \n",
    "    E = E / (2*graph.number_of_edges())\n",
    "\n",
    "    return E, list_of_fields\n"
   ]
  },
  {
   "cell_type": "code",
   "execution_count": 40,
   "metadata": {},
   "outputs": [
    {
     "name": "stderr",
     "output_type": "stream",
     "text": [
      "100%|██████████| 13045/13045 [02:57<00:00, 73.51it/s]\n"
     ]
    },
    {
     "name": "stdout",
     "output_type": "stream",
     "text": [
      "0.4615561517822921 1.0\n",
      "0.4615561517822921 1.0\n"
     ]
    }
   ],
   "source": [
    "# Check if it works\n",
    "mixing_matrix, _ = get_mixing_matrix(CSS_giant, 'att2')\n",
    "mixing_matrix_2 = nx.attribute_mixing_matrix(CSS_giant, 'att2')\n",
    "\n",
    "# Only certain checks \n",
    "print(np.trace(mixing_matrix), np.sum(mixing_matrix))\n",
    "print(np.trace(mixing_matrix_2), np.sum(mixing_matrix_2)) "
   ]
  },
  {
   "cell_type": "code",
   "execution_count": 41,
   "metadata": {},
   "outputs": [
    {
     "name": "stdout",
     "output_type": "stream",
     "text": [
      "The association for fields is 0.17\n",
      "The association for fields is 0.17, calculated with the mx library\n"
     ]
    }
   ],
   "source": [
    "# Calculate the association for fields\n",
    "calculate_assortiative_coef = lambda E: (np.trace(E) - np.sum(E @ E.T)) / (1 - np.sum(E @ E.T))\n",
    "print(f\"The association for fields is {calculate_assortiative_coef(mixing_matrix):.2f}\")\n",
    "print(f\"The association for fields is {nx.attribute_assortativity_coefficient(CSS_giant, 'att2'):.2f}, calculated with the mx library\")"
   ]
  },
  {
   "attachments": {},
   "cell_type": "markdown",
   "metadata": {},
   "source": [
    "### Is the graph assortative with respect to the degree?"
   ]
  },
  {
   "cell_type": "code",
   "execution_count": 42,
   "metadata": {},
   "outputs": [
    {
     "data": {
      "image/png": "[encoded data removed]",
      "text/plain": [
       "<Figure size 432x288 with 1 Axes>"
      ]
     },
     "metadata": {
      "needs_background": "light"
     },
     "output_type": "display_data"
    }
   ],
   "source": [
    "# Very similar to the function above, but this calculates the matrix for the degree instead of attribute\n",
    "get_i = lambda x, threshold: 1 if x > threshold else 0 # Small function to get the index of the matrix\n",
    "\n",
    "max_threshold = 10\n",
    "assosiations = np.zeros(max_threshold - 2)\n",
    "\n",
    "for threshold in range(2, max_threshold):\n",
    "    # Get dimensions of matrix\n",
    "    E = np.zeros((2, 2))\n",
    "\n",
    "    # Fill the matrix\n",
    "    for edge in CSS_giant.edges:\n",
    "        # Get the degree of the node at the ends of the edge\n",
    "        i = get_i(CSS_giant.degree(edge[0]), threshold)\n",
    "        j = get_i(CSS_giant.degree(edge[1]), threshold)\n",
    "        E[i, j] += 1\n",
    "        E[j, i] += 1\n",
    "\n",
    "    E = E / (2*CSS_giant.number_of_edges())\n",
    "    \n",
    "    # Store the assosiation\n",
    "    assosiations[threshold - 2] = calculate_assortiative_coef(E)\n",
    "\n",
    "plt.plot(range(2, max_threshold), assosiations, \"-o\")\n",
    "plt.xlabel(\"Threshold\")\n",
    "plt.ylabel(\"Assosiation\")\n",
    "plt.title(\"Assosiation for different thresholds\")\n",
    "plt.show()"
   ]
  },
  {
   "attachments": {},
   "cell_type": "markdown",
   "metadata": {},
   "source": [
    "From this graph we can see that there is an assosiation when the \"high degrees\" are relatively small numbers, but the assosiation becomes negliable when \"high degress\" are large (above 8). \n",
    "\n",
    "When we created the dataset we started with an amount of authors and looked at all of their papers. These original authors will have many coauthors because the \"spawned\" the rest of the dataset. This introduces some noise in who has a high degree. \n",
    "\n",
    "#### TODO expand on this "
   ]
  },
  {
   "attachments": {},
   "cell_type": "markdown",
   "metadata": {},
   "source": [
    "## Communities - Exercise 2, Zachary's karate club "
   ]
  },
  {
   "attachments": {},
   "cell_type": "markdown",
   "metadata": {},
   "source": [
    "### Visualize the graph using netwulf. Set the color of each node based on the club split."
   ]
  },
  {
   "cell_type": "code",
   "execution_count": 43,
   "metadata": {},
   "outputs": [
    {
     "data": {
      "text/plain": [
       "(None, None)"
      ]
     },
     "execution_count": 43,
     "metadata": {},
     "output_type": "execute_result"
    }
   ],
   "source": [
    "# TODO maybe rewrite this? we could use the club parameter in the karate club graph\n",
    "# Load the graph\n",
    "karclub_data = nx.karate_club_graph()\n",
    "club_membership = nx.get_node_attributes(karclub_data, \"club\")\n",
    "\n",
    "#setting the colors of different club nodes\n",
    "colors = {}\n",
    "clubs = []#For use later\n",
    "mrhi_members = []\n",
    "officer_members = []\n",
    "\n",
    "for node in range(len(karclub_data.nodes)):\n",
    "    if club_membership[node] == 'Mr. Hi': \n",
    "        colors[node] = \"blue\"\n",
    "        mrhi_members.append(node)\n",
    "    else:\n",
    "        colors[node] = \"red\"\n",
    "        officer_members.append(node)\n",
    "\n",
    "clubs.append(mrhi_members)\n",
    "clubs.append(officer_members)\n",
    "nx.set_node_attributes(karclub_data,colors,\"color\")\n",
    "\n",
    "# Visualize the graph with netwulf \n",
    "netwulf.interactive.visualize(karclub_data,config={\"Node color\": \"color\"})"
   ]
  },
  {
   "attachments": {},
   "cell_type": "markdown",
   "metadata": {},
   "source": [
    "![Alt text](https://file%2B.vscode-resource.vscode-cdn.net/c%3A/Users/david/Desktop/Computational%20social%20science/comsocsci2023/my_data/netwulf.png?version%3D1679758749082)"
   ]
  },
  {
   "attachments": {},
   "cell_type": "markdown",
   "metadata": {},
   "source": [
    "### Write a function to compute the modularity of a graph partitioning (use equation 9.12 in the book). The function should take a networkX Graph and a partitioning as inputs and return the modularity.\n",
    "\n",
    "This is done with the formula (9.12) from the book, \n",
    "$$M = \\sum_{c=1}^{n_c} \\left[\\frac{L_c}{L} - \\left(\\frac{k_c}{2L}\\right)^2\\right]. $$"
   ]
  },
  {
   "cell_type": "code",
   "execution_count": 45,
   "metadata": {},
   "outputs": [],
   "source": [
    "#Modularity function\n",
    "def modularity(G, communities):\n",
    "    \"\"\"\n",
    "    Compute the modularity for a communities of a graph.\n",
    "\n",
    "    Parameters:\n",
    "        - G: the NetworkX graph\n",
    "        - communities (list): a list of communities, where each community is a list of node IDs\n",
    "\n",
    "    Returns:\n",
    "        - M: the modularity value for the graph\n",
    "    \"\"\"\n",
    "    \n",
    "    total_links = G.number_of_edges()\n",
    "    num_of_communities = len(communities)\n",
    "    links_in_community = {community: 0 for community in range(num_of_communities)}\n",
    "    tot_degree = {community: 0 for community in range(num_of_communities)}\n",
    "    \n",
    "    # Dictionary to map node IDs to community IDs\n",
    "    communities_lookup = {node: community for community, nodes in enumerate(communities) for node in nodes}\n",
    "\n",
    "    # Count the number of links within each community and the total degree of each community\n",
    "    for (node_1, node_2) in G.edges():\n",
    "        node_1_community = communities_lookup[node_1]\n",
    "        node_2_community = communities_lookup[node_2]\n",
    "        \n",
    "        # Since we go through all edges, we also get the degree of all nodes\n",
    "        tot_degree[node_1_community] += 1\n",
    "        tot_degree[node_2_community] += 1\n",
    "        \n",
    "        # If the nodes are in the same community, add one to that community's link count\n",
    "        if node_1_community == node_2_community:\n",
    "            links_in_community[node_1_community] += 1\n",
    "\n",
    "    # Compute the modularity\n",
    "    M = 0.0\n",
    "    for i in range(num_of_communities):\n",
    "        M += (links_in_community[i] / total_links) - ((tot_degree[i] / (2 * total_links)) ** 2)\n",
    "\n",
    "    return M\n"
   ]
  },
  {
   "attachments": {},
   "cell_type": "markdown",
   "metadata": {},
   "source": [
    "### Explain in your own words the concept of modularity"
   ]
  },
  {
   "attachments": {},
   "cell_type": "markdown",
   "metadata": {},
   "source": [
    "The formula to calculate the modularity is, as stated, given by, \n",
    "$M = \\sum_{c=1}^{n_c} \\left[\\frac{L_c}{L} - \\left(\\frac{k_c}{2L}\\right)^2\\right]$,  and it tells us the degree in which the network is modular, given a partition into communities. \n",
    "\n",
    "It measures the difference between the number of edges within each community, and the expected number of edges given a random distribution. The value, $M \\in [-1, 1]$, where positive values express that the communities have more links within them, then they would at random, while negative values show the opposite. \n",
    "\n",
    "If it is close to one, we likely have a dense community structure and the partition is close to having found these communities. If it is close to 0, we perhaps have a more homogenous structure without any clear structure, or we have a partition that does not reflect the true communities. At last values close to -1 tells us that the partition used have divided the graph poorly into communities, and that a random distribution would form stronger communities with this partition. \n",
    "\n",
    "Modularity is a useful metric in the analysis of complex networks for this reason."
   ]
  },
  {
   "attachments": {},
   "cell_type": "markdown",
   "metadata": {},
   "source": [
    "### Compute the modularity of the Karate club split partitioning using the function you just wrote."
   ]
  },
  {
   "cell_type": "code",
   "execution_count": 46,
   "metadata": {},
   "outputs": [
    {
     "name": "stdout",
     "output_type": "stream",
     "text": [
      "The modularity of the karate club graph is 0.36\n"
     ]
    }
   ],
   "source": [
    "kar_club_modularity = modularity(karclub_data, clubs)\n",
    "print(f\"The modularity of the karate club graph is {kar_club_modularity:.2f}\")"
   ]
  },
  {
   "attachments": {},
   "cell_type": "markdown",
   "metadata": {},
   "source": [
    "### Implementation of the double edge swap algorithm "
   ]
  },
  {
   "cell_type": "code",
   "execution_count": 47,
   "metadata": {},
   "outputs": [],
   "source": [
    "#Random Edge swap function\n",
    "\n",
    "def edge_swap(G, N):\n",
    "    \"\"\"\n",
    "    create a copy of G with N swapped edges\n",
    "\n",
    "    Parameters:\n",
    "        - G: the given graph\n",
    "        - N: how many edges we want swapped\n",
    "\n",
    "    Returns:\n",
    "        - G_copy: a copy of graph g with N edges swapped at random\n",
    "    \"\"\"\n",
    "    \n",
    "    # Make a copy of the original network, to not change the original\n",
    "    G = copy.deepcopy(G)\n",
    "    \n",
    "    # Perform at least N edge swaps\n",
    "    edges_swapped = 0\n",
    "    while edges_swapped <= N:\n",
    "        # Choose two random edges\n",
    "        edges = random.sample(G.edges(), 2)\n",
    "        (u, v) = edges[0]\n",
    "        (x, y) = edges[1]\n",
    "        # Check that we will not link a node to itself\n",
    "        # We believe that there was an error in the instructions\n",
    "        # That it is not meant to say u != v, as this is trivial and can't happen\n",
    "        # Instead it is vital to check that u != y such that we don't link u to itself\n",
    "        if u != y and v != x:\n",
    "            # Check if the edges (u,y) and (x,v) exist\n",
    "            if not G.has_edge(u, y) and not G.has_edge(x, v):\n",
    "                # Swap the edges \n",
    "                G.remove_edge(u, v)\n",
    "                G.remove_edge(x, y)\n",
    "                G.add_edge(u, y)\n",
    "                G.add_edge(x, v)\n",
    "\n",
    "                #Counter for number of swaps\n",
    "                edges_swapped += 1\n",
    "\n",
    "    return G"
   ]
  },
  {
   "attachments": {},
   "cell_type": "markdown",
   "metadata": {},
   "source": [
    "### Double check that your algorithm works well, by showing that the degree of nodes in the original network and the new 'randomized' version of the network are the same."
   ]
  },
  {
   "cell_type": "code",
   "execution_count": 48,
   "metadata": {},
   "outputs": [
    {
     "name": "stderr",
     "output_type": "stream",
     "text": [
      "C:\\Users\\david\\AppData\\Local\\Temp/ipykernel_16056/4256096761.py:22: DeprecationWarning: Sampling from a set deprecated\n",
      "since Python 3.9 and will be removed in a subsequent version.\n",
      "  edges = random.sample(G.edges(), 2)\n"
     ]
    }
   ],
   "source": [
    "#looping to see if every node has the same degree\n",
    "\n",
    "karclub_random = edge_swap(karclub_data, 100)\n",
    "\n",
    "for i in karclub_data.nodes():\n",
    "    #If the loop does not return anything, all the degrees are the same\n",
    "    \n",
    "    if karclub_data.degree(i) == karclub_random.degree[i]:\n",
    "        pass\n",
    "    else:\n",
    "        print(\"There is a node with a different degree!\")\n",
    "        "
   ]
  },
  {
   "attachments": {},
   "cell_type": "markdown",
   "metadata": {},
   "source": [
    "### Create 1000 randomized version of the Karate Club network using the double edge swap algorithm you wrote in step 5. For each of them, compute the modularity of the \"club\" split and store it in a list."
   ]
  },
  {
   "cell_type": "code",
   "execution_count": 49,
   "metadata": {},
   "outputs": [
    {
     "name": "stderr",
     "output_type": "stream",
     "text": [
      "  0%|          | 0/1000 [00:00<?, ?it/s]C:\\Users\\david\\AppData\\Local\\Temp/ipykernel_16056/4256096761.py:22: DeprecationWarning: Sampling from a set deprecated\n",
      "since Python 3.9 and will be removed in a subsequent version.\n",
      "  edges = random.sample(G.edges(), 2)\n",
      "100%|██████████| 1000/1000 [00:09<00:00, 109.74it/s]\n"
     ]
    }
   ],
   "source": [
    "# Set seed in the interest of repeatability\n",
    "random.seed(69420)\n",
    "# A list that will contain a thousand randomized modularities\n",
    "rand_modularities = np.zeros((1000))\n",
    "\n",
    "#The loop that produces a thousand edge swapped datasets, and appends them to rand_modularities\n",
    "#Here we use the previously defined modularity and edge_swap funtions\n",
    "for i in tqdm(range(1000)):\n",
    "    rand_karclub = edge_swap(karclub_data, 100)\n",
    "    rand_modularities[i] = (modularity(rand_karclub, clubs))\n"
   ]
  },
  {
   "attachments": {},
   "cell_type": "markdown",
   "metadata": {},
   "source": [
    "### Compute the average and standard deviation of the modularity for the random network."
   ]
  },
  {
   "cell_type": "code",
   "execution_count": 50,
   "metadata": {},
   "outputs": [
    {
     "name": "stdout",
     "output_type": "stream",
     "text": [
      "The mean of the thousand edge swapped modularities is -0.08986785009861939\n",
      "The standard deviation of the thousand edge swapped modularities is 0.04363062939232349\n"
     ]
    }
   ],
   "source": [
    "mean_rand_mods = np.mean(rand_modularities)\n",
    "std_rand_mods = np.std(rand_modularities)\n",
    "\n",
    "print(\"The mean of the thousand edge swapped modularities is \" + str(mean_rand_mods))\n",
    "print(\"The standard deviation of the thousand edge swapped modularities is \" + str(std_rand_mods))"
   ]
  },
  {
   "attachments": {},
   "cell_type": "markdown",
   "metadata": {},
   "source": [
    "### Plot the distribution of the \"random\" modularity. Plot the actual modularity of the club split as a vertical line (use axvline)."
   ]
  },
  {
   "cell_type": "code",
   "execution_count": 51,
   "metadata": {},
   "outputs": [
    {
     "data": {
      "image/png": "[encoded data removed]",
      "text/plain": [
       "<Figure size 432x288 with 1 Axes>"
      ]
     },
     "metadata": {
      "needs_background": "light"
     },
     "output_type": "display_data"
    }
   ],
   "source": [
    "# Plotting a histogram over the distribution values for\n",
    "\n",
    "plt.hist(rand_modularities, edgecolor='black')\n",
    "plt.xlabel('Modularity')\n",
    "plt.ylabel('Count')\n",
    "plt.title('Histogram over modularities')\n",
    "plt.axvline(x=kar_club_modularity, color = \"red\")\n",
    "plt.show()"
   ]
  },
  {
   "attachments": {},
   "cell_type": "markdown",
   "metadata": {},
   "source": [
    "### Comment on the figure. Is the club split a good partitioning? Why do you think I asked you to perform a randomization experiment? What is the reason why we preserved the nodes degree?"
   ]
  },
  {
   "attachments": {},
   "cell_type": "markdown",
   "metadata": {},
   "source": [
    "As we can see, the karate club dataset partitioning is significantly different from the random modularities generated by the randomization experiment, which tells us that we have a good partitioning. \n",
    "\n",
    "The point of prserving the nodes degree is to ensure any change was due to a difference in edge distribution, rather than a change in the structure of the network. Changing the degree distribution can significantly change the structure of the network. However, if we simply move some edges around while preserving the degree distribution, we ensure the change is not due to a change in the degree distribution. The point of the randomization experiment is to test the modularity of the network, to see if it is significantly different from what we would see if the edges we're formed at random, given the same degree distribution.\n",
    "\n",
    "#### TODO check this "
   ]
  },
  {
   "attachments": {},
   "cell_type": "markdown",
   "metadata": {},
   "source": [
    "### Use the Python Louvain-algorithm implementation to find communities in this graph. Report the value of modularity found by the algorithm. Is it higher or lower than what you found above for the club split? What does this comparison reveal?"
   ]
  },
  {
   "cell_type": "code",
   "execution_count": 52,
   "metadata": {},
   "outputs": [],
   "source": [
    "# Function that applies the Louvain algorithm to a grap, and returns communities\n",
    "def louvain_communities(graph):\n",
    "    # Use the louvain method to find communities\n",
    "    partition = community.best_partition(graph) # community function that uses Louvain-algorithm\n",
    "    \n",
    "    # Reformat the partitioning\n",
    "    communities = {}\n",
    "    for node, community_id in partition.items():\n",
    "        if community_id in communities:\n",
    "            communities[community_id].append(node)\n",
    "        else:\n",
    "            communities[community_id] = [node]\n",
    "    \n",
    "    return list(communities.values())"
   ]
  },
  {
   "cell_type": "code",
   "execution_count": 53,
   "metadata": {},
   "outputs": [
    {
     "name": "stdout",
     "output_type": "stream",
     "text": [
      "The modularity of the karate club graph using the Louvain algorithm is 0.42\n"
     ]
    }
   ],
   "source": [
    "# Get the communities using the Louvain algorithm and calculate the modularity\n",
    "karclub_louvain_groups = louvain_communities(karclub_data)\n",
    "print(f\"The modularity of the karate club graph using the Louvain algorithm is {modularity(karclub_data, karclub_louvain_groups):.2f}\")"
   ]
  },
  {
   "attachments": {},
   "cell_type": "markdown",
   "metadata": {},
   "source": [
    "### Get the confusion matrix from the two partitions into communities (Original vs Louvain)"
   ]
  },
  {
   "cell_type": "code",
   "execution_count": 54,
   "metadata": {},
   "outputs": [],
   "source": [
    "def confusion_matrix(community1, community2):\n",
    "    \"\"\"\n",
    "    Creates an unweighted confusion matrix comparing two sets of communities.\n",
    "\n",
    "    Args:\n",
    "    - community1: a list of lists, where each inner list contains the nodes in a community\n",
    "    - community2: a list of lists, where each inner list contains the nodes in a community\n",
    "\n",
    "    Returns:\n",
    "    - confusion_matrix: a 2D list representing the confusion matrix\n",
    "    \"\"\"\n",
    "\n",
    "    # Get the number of communities in each list\n",
    "    n1 = len(community1)\n",
    "    n2 = len(community2)\n",
    "\n",
    "    # Create an empty confusion matrix with n1 rows and n2 columns\n",
    "    confusion_matrix = np.zeros((n1, n2)) #  [[0] * n2 for _ in range(n1)]\n",
    "\n",
    "    # Loop over each community in community1\n",
    "    for i, c1 in enumerate(community1):\n",
    "        # Loop over each community in community2\n",
    "        for j, c2 in enumerate(community2):\n",
    "            # Count the number of nodes in common between the two communities\n",
    "            common_nodes = len(set(c1) & set(c2))\n",
    "            # Add the count to the confusion matrix\n",
    "            confusion_matrix[i, j] = common_nodes\n",
    "\n",
    "    return confusion_matrix"
   ]
  },
  {
   "cell_type": "code",
   "execution_count": 55,
   "metadata": {},
   "outputs": [
    {
     "name": "stdout",
     "output_type": "stream",
     "text": [
      "[[11.  5.  1.  0.]\n",
      " [ 1.  0. 12.  4.]]\n"
     ]
    }
   ],
   "source": [
    "print(confusion_matrix(clubs, karclub_louvain_groups))"
   ]
  },
  {
   "attachments": {},
   "cell_type": "markdown",
   "metadata": {},
   "source": [
    "It would seem that Louvain followed almost the same distribution as clubs, however, it split the two clubs further into two subgroups each.\n",
    "\n",
    "Only one member has been moved into a new community, that member was moved from the first community in the original partitioning to the third community in the new partitioning. In the third community of the new partitioning all 11 other members are from the second community in the original partitioning. \n",
    "\n",
    "Besides that it is impressive that the Louvain algorithm finds this partition so effortlessly. \n",
    "\n",
    "#### TODO look at this again, this might not be deterministic because it has changed!?"
   ]
  },
  {
   "attachments": {},
   "cell_type": "markdown",
   "metadata": {},
   "source": [
    "## Communities - Exercise 3, CSS\n",
    "We still work on the giant component in this section, as it does not really make sense to look at the communities of individuals that are not linked to any other or few others. "
   ]
  },
  {
   "attachments": {},
   "cell_type": "markdown",
   "metadata": {},
   "source": [
    "### Use the Python Louvain-algorithm implementation to find communities. How many communities do you find? What are their sizes? Report the value of modularity found by the algorithm. Is the modularity significantly different than 0?"
   ]
  },
  {
   "cell_type": "code",
   "execution_count": 60,
   "metadata": {},
   "outputs": [
    {
     "name": "stdout",
     "output_type": "stream",
     "text": [
      "The modularity of the CSS graph is 0.8677142850007219\n",
      "There are 68 communities\n",
      " -- Below is a histogram of the sizes of the communities -- \n"
     ]
    },
    {
     "data": {
      "image/png": "[encoded data removed]",
      "text/plain": [
       "<Figure size 432x288 with 1 Axes>"
      ]
     },
     "metadata": {
      "needs_background": "light"
     },
     "output_type": "display_data"
    }
   ],
   "source": [
    "# Finding the communities in the giant component with the Louvain algorithm\n",
    "CSS_louvain_groups = louvain_communities(CSS_giant)\n",
    "\n",
    "# Compute the modulary of the giant component, with the Louvain communities\n",
    "CSS_modularity = modularity(CSS_giant, CSS_louvain_groups)\n",
    "\n",
    "print(\"The modularity of the CSS graph is \" + str(CSS_modularity))\n",
    "print(\"There are \" + str(len(CSS_louvain_groups)) + \" communities\")\n",
    "\n",
    "# Plot the distribution of community sizes\n",
    "print(\" -- Below is a histogram of the sizes of the communities -- \")\n",
    "community_sizes = [len(sublist) for sublist in CSS_louvain_groups]\n",
    "plt.hist(community_sizes, bins = 15)\n",
    "plt.xlabel('Length of Sublists')\n",
    "plt.ylabel('Frequency')\n",
    "plt.xticks(range(0, max(community_sizes)+1, (max(community_sizes)) // 10))\n",
    "plt.title('Histogram of List of List Lengths')\n",
    "plt.show()"
   ]
  },
  {
   "attachments": {},
   "cell_type": "markdown",
   "metadata": {},
   "source": [
    "We can see that the modularity of this partition of communities is very close to 1, which tells us that it is very likely that it is significantly above 0. However, it may still be worth doing a 1000 fold randomization of models as we did before."
   ]
  },
  {
   "cell_type": "code",
   "execution_count": 61,
   "metadata": {},
   "outputs": [
    {
     "name": "stderr",
     "output_type": "stream",
     "text": [
      "  0%|          | 0/100 [00:00<?, ?it/s]C:\\Users\\david\\AppData\\Local\\Temp/ipykernel_16056/4256096761.py:22: DeprecationWarning: Sampling from a set deprecated\n",
      "since Python 3.9 and will be removed in a subsequent version.\n",
      "  edges = random.sample(G.edges(), 2)\n",
      " 60%|██████    | 60/100 [1:43:13<1:07:03, 100.58s/it]"
     ]
    }
   ],
   "source": [
    "#Set seed in the interest of repeatability\n",
    "random.seed(69420)\n",
    "#A list that will contain a thousand randomized modularities\n",
    "rand_modularities_2 = []\n",
    "\n",
    "#The loop that produces a thousand edge swapped datasets, and appends them to rand_modularities\n",
    "#Here we use the previously defined modularity and edge_swap funtions\n",
    "giant_unfrozen = nx.Graph(CSS_giant)\n",
    "for i in tqdm(range(100)):\n",
    "    rand_giant = edge_swap(giant_unfrozen, 13046)\n",
    "    rand_modularities_2.append(modularity(rand_giant, CSS_louvain_groups))"
   ]
  },
  {
   "cell_type": "code",
   "execution_count": null,
   "metadata": {},
   "outputs": [],
   "source": [
    "# Plotting a histogram over the distribution of modularities for the edge swapped giant component\n",
    "\n",
    "plt.hist(rand_modularities_2, edgecolor='black')\n",
    "plt.xlabel('Modularity')\n",
    "plt.ylabel('Count')\n",
    "plt.title('Histogram over modularities')\n",
    "plt.axvline(x=CSS_modularity, color = \"red\")\n",
    "plt.show()"
   ]
  },
  {
   "attachments": {},
   "cell_type": "markdown",
   "metadata": {},
   "source": [
    "### Visualize the network, using netwulf (see Week 5). This time assign each node a different color based on their community. Describe the structure you observe."
   ]
  },
  {
   "cell_type": "code",
   "execution_count": null,
   "metadata": {},
   "outputs": [],
   "source": [
    "import matplotlib.colors as mcolors\n",
    "# List of colors to use for the visualization\n",
    "colors = mcolors.ListedColormap(list(mcolors.CSS4_COLORS.values())[:len(CSS_louvain_groups)])\n",
    "\n",
    "# Use netwulf to visualize the communities\n",
    "def visualize_communities(graph, communities):\n",
    "    # Create a dictionary that maps nodes to communities\n",
    "    node_to_community = {}\n",
    "    for i, community in enumerate(communities):\n",
    "        for node in community:\n",
    "            node_to_community[node] = i\n",
    "      \n",
    "    # Add a color attribute to the nodes\n",
    "    for node in graph.nodes:\n",
    "        # Add the community number as a node attribute\n",
    "        graph.nodes[node][\"color\"] = colors[node_to_community[node]] \n",
    "\n",
    "    # Visualize the graph with netwulf\n",
    "    netwulf.visualize(graph, config={\"Node color\": \"color\"})\n",
    "# netwulf.interactive.visualize(CSS_giant, config={\"Node color\": \"color\"})\n",
    "\n",
    "visualize_communities(CSS_giant, CSS_louvain_groups)"
   ]
  },
  {
   "attachments": {},
   "cell_type": "markdown",
   "metadata": {},
   "source": [
    "Visualization of the giant component with the communties found with the Lovian algorithm; \n",
    "\n",
    "\n",
    "#### TODO interpret the results here! "
   ]
  },
  {
   "attachments": {},
   "cell_type": "markdown",
   "metadata": {},
   "source": [
    "### Make sure you save the assignment of authors to communities."
   ]
  },
  {
   "cell_type": "code",
   "execution_count": null,
   "metadata": {},
   "outputs": [],
   "source": [
    "# Save the list of communities to a file\n",
    "np.save(DATA_PATH + 'CSS_louvain_groups.npy', CSS_louvain_groups)"
   ]
  },
  {
   "attachments": {},
   "cell_type": "markdown",
   "metadata": {},
   "source": [
    "## Exercise 4: TF-IDF and the Computational Social Science communities."
   ]
  },
  {
   "attachments": {},
   "cell_type": "markdown",
   "metadata": {},
   "source": [
    "### First, check out the wikipedia page for TF-IDF. Explain in your own words the point of TF-IDF.\n",
    "We think wikipedia explains well the point of TF-IDF in one sentence; \n",
    "TF-IDF is a numerical statistic that is intended to reflect how important a word is to a document in a corpus of documents (slight alterations are made in this quote as it is taken out of context). \n",
    "\n",
    "TF-IDF is the amount of times the word appears in the document, divided with how many documents contain the word in the corpus. Now this scalar can be used to compare different words in the document to see which more uniquely define the document. If we did not multiply with the inverse document frequency, commen words would dominate the TF weighting, and it would not be very effective at classifying the most important words for a text. \n",
    "\n",
    "##### TODOD remove this? \n",
    "One has to be carefull about how one interprets the TF-IDF of a word, and one should not compare values between documents, because TF is artificially inflated if the text is longer. One shouldn't compare TF-IDF values between different corpuses, because it becomes artificially smaller when the corpus is larger. \n",
    "\n",
    "#### What does TF stand for?\n",
    "Term Frequency (how many times a term/token appears in a document)\n",
    "#### What does IDF stand for? \n",
    "Inverse Document Frequency (one divided by how many documents in the corpus that includes the term/token)\n"
   ]
  },
  {
   "attachments": {},
   "cell_type": "markdown",
   "metadata": {},
   "source": [
    "### Create large documents for each community. Each document includes all the tokens of abstracts written by members of a given community."
   ]
  },
  {
   "cell_type": "code",
   "execution_count": null,
   "metadata": {},
   "outputs": [],
   "source": [
    "# imports for the text analysis\n",
    "import nltk\n",
    "nltk.download('punkt')\n",
    "nltk.download('stopwords')\n",
    "from nltk.corpus import stopwords\n",
    "import re"
   ]
  },
  {
   "cell_type": "code",
   "execution_count": null,
   "metadata": {},
   "outputs": [],
   "source": [
    "# Load the paper abstracts\n",
    "df_abstract = pd.read_csv(DATA_PATH + 'df_CSS_paper_abstract.csv')"
   ]
  },
  {
   "cell_type": "code",
   "execution_count": null,
   "metadata": {},
   "outputs": [],
   "source": [
    "# Function to clean strings\n",
    "def clean_strings(strings):\n",
    "    \"\"\" Cleans a list of strings by removing URLs, numbers, punctuation and stop words\n",
    "    \n",
    "    Args:\n",
    "    - strings: a list of strings\n",
    "    \n",
    "    returns:\n",
    "    - cleaned_strings: a list of cleaned strings\n",
    "    \"\"\"\n",
    "    cleaned_strings = []\n",
    "    stop_words = set(stopwords.words('english'))\n",
    "\n",
    "    for string in strings:\n",
    "        # Remove URLs\n",
    "        string = re.sub(r'http\\S+', '', string)\n",
    "\n",
    "        # Remove numbers\n",
    "        string = re.sub(r'[0-9]', '', string)\n",
    "\n",
    "        # Keep only what is not punctuation\n",
    "        string = re.sub(r'[^\\w\\s]', '', string)\n",
    "\n",
    "        # Remove stop words and moke them\n",
    "        if string not in stop_words: string = string.lower()\n",
    "\n",
    "        # Remove empty strings\n",
    "        if len(string):\n",
    "            cleaned_strings.append(string)\n",
    "\n",
    "    return cleaned_strings\n",
    "\n",
    "# If the dataframe has not yet gotten the tokens (from week 7), do it here and save it\n",
    "if not 'tokens' in df_abstract.columns:\n",
    "    cleaned_corpus = []\n",
    "    df_abstract['tokens'] = None\n",
    "    for i, row in tqdm(df_abstract.iterrows()):\n",
    "        abstract = row['abstract']\n",
    "        if type(abstract) == str:\n",
    "\n",
    "            tokens = nltk.word_tokenize(row['abstract'])\n",
    "            clean_tokens = clean_strings(tokens)\n",
    "            cleaned_corpus.append(clean_tokens)\n",
    "            df_abstract['tokens'][i] = clean_tokens\n",
    "        else:\n",
    "            cleaned_corpus.append(None)\n",
    "    df_abstract.to_csv('my_data/df_CSS_paper_abstract.csv')\n"
   ]
  },
  {
   "cell_type": "code",
   "execution_count": null,
   "metadata": {},
   "outputs": [],
   "source": [
    "# Load data if it is not in memory yet\n",
    "if 'CSS_louvain_groups' not in locals():\n",
    "    CSS_louvain_groups = np.load(DATA_PATH + 'CSS_louvain_groups.npy', allow_pickle=True)\n",
    "if 'CSS_giant' not in locals():\n",
    "    CSS_giant = nx.read_graphml(DATA_PATH + 'CSS_giant.graphml')\n"
   ]
  },
  {
   "cell_type": "code",
   "execution_count": null,
   "metadata": {},
   "outputs": [],
   "source": [
    "# Load the tokens of the community documents if they are already saved\n",
    "try: \n",
    "    community_documents = np.load(DATA_PATH + 'community_documents.npy')\n",
    "except: \n",
    "    # Create a document for each community that contains the combined abstracts of all papers in that community\n",
    "    community_documents = [[] for _ in range(len(CSS_louvain_groups))]\n",
    "\n",
    "    # Create a dictionary that maps nodes to communities\n",
    "    node_to_community = {}\n",
    "    for i, community in enumerate(CSS_louvain_groups):\n",
    "        for node in community:\n",
    "            node_to_community[node] = i\n",
    "\n",
    "    # Loop over all papers\n",
    "    for i, paper in tqdm(df_abstract.iterrows()):\n",
    "        # We need the authors and the tokens \n",
    "        authors = paper['authors']\n",
    "        tokens = paper['tokens']\n",
    "        \n",
    "        # Loop over all authors of the paper\n",
    "        for author in authors:\n",
    "        # If the author is in the giant component, add the tokens to the community document\n",
    "            if author in CSS_giant.nodes:\n",
    "                community_documents[node_to_community[author]] += tokens\n",
    "\n",
    "    # Save the community documents to a file\n",
    "    np.save(DATA_PATH + 'community_documents.npy', community_documents)\n"
   ]
  }
 ],
 "metadata": {
  "kernelspec": {
   "display_name": "base",
   "language": "python",
   "name": "python3"
  },
  "language_info": {
   "codemirror_mode": {
    "name": "ipython",
    "version": 3
   },
   "file_extension": ".py",
   "mimetype": "text/x-python",
   "name": "python",
   "nbconvert_exporter": "python",
   "pygments_lexer": "ipython3",
   "version": "3.9.7"
  },
  "orig_nbformat": 4
 },
 "nbformat": 4,
 "nbformat_minor": 2
}
