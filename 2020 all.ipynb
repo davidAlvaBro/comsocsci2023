{
 "cells": [
  {
   "cell_type": "code",
   "execution_count": 2,
   "metadata": {
    "collapsed": true
   },
   "outputs": [],
   "source": [
    "from bs4 import BeautifulSoup\n",
    "import requests\n",
    "import re\n",
    "import pandas as pd\n",
    "import requests\n",
    "import urllib3"
   ]
  },
  {
   "cell_type": "code",
   "execution_count": 3,
   "outputs": [],
   "source": [
    "#Setup\n",
    "requests.packages.urllib3.disable_warnings()\n",
    "requests.packages.urllib3.util.ssl_.DEFAULT_CIPHERS += ':HIGH:!DH:!aNULL'\n",
    "try:\n",
    "    requests.packages.urllib3.contrib.pyopenssl.util.ssl_.DEFAULT_CIPHERS += ':HIGH:!DH:!aNULL'\n",
    "except AttributeError:\n",
    "    # no pyopenssl support used / needed / available\n",
    "    pass"
   ],
   "metadata": {
    "collapsed": false
   }
  },
  {
   "cell_type": "code",
   "execution_count": 4,
   "outputs": [],
   "source": [
    "Link = \"https://ic2s2.mit.edu/program\"\n",
    "req = requests.get(Link, verify= False)\n",
    "soup = BeautifulSoup(req.content, features=\"html.parser\")\n",
    "#Ren træning, kunne bare kopiere det rigtige link\n",
    "text = soup.find(\"div\", {\"class\": \"article-content\"})\n",
    "str_text = str(text).split(\"src=\")\n",
    "docs_link = str_text[-1].split(\" \")[0][1:-1]"
   ],
   "metadata": {
    "collapsed": false
   }
  },
  {
   "cell_type": "code",
   "execution_count": 5,
   "outputs": [],
   "source": [
    "r = requests.get(docs_link)\n",
    "soup = BeautifulSoup(r.content, features=\"html.parser\")\n",
    "table = soup.find(\"table\", {\"class\": \"waffle\"})\n",
    "table_rows = table.find_all(\"tr\")\n",
    "ths = table_rows[0].find_all('th')\n",
    "header = [th.text.replace(\"\\n\",\"\") for th in ths]\n",
    "\n",
    "#HERE I GET THE ROWS\n",
    "rows = []\n",
    "for tr in table_rows[1:]:\n",
    "    tds = tr.find_all('td')\n",
    "    row = [td.text.replace(\"\\n\",\"\") for td in tds]\n",
    "    rows.append(row)"
   ],
   "metadata": {
    "collapsed": false
   }
  },
  {
   "cell_type": "code",
   "execution_count": 51,
   "outputs": [
    {
     "name": "stdout",
     "output_type": "stream",
     "text": [
      "1389 990\n"
     ]
    }
   ],
   "source": [
    "df = pd.DataFrame(rows, columns=header[0:5])\n",
    "names_plus = [name.split(', ') for name in list(df.iloc[:,2][1:])]\n",
    "names = []\n",
    "for name in names_plus:\n",
    "    for n in name:\n",
    "        if len(n) :\n",
    "            names.append(n)\n",
    "print(len(names), len(set(names)))\n",
    "science_people = list(set(names))\n"
   ],
   "metadata": {
    "collapsed": false
   }
  },
  {
   "cell_type": "code",
   "execution_count": 63,
   "outputs": [],
   "source": [
    "#setup\n",
    "BASE_URL = \"https://api.semanticscholar.org/graph/\"\n",
    "VERSION  = \"v1/\"\n",
    "RESOURCE = \"author/search?query=\"\n",
    "complete_url = BASE_URL + VERSION + RESOURCE"
   ],
   "metadata": {
    "collapsed": false
   }
  },
  {
   "cell_type": "code",
   "execution_count": 62,
   "outputs": [
    {
     "data": {
      "text/plain": "{'101236378': [],\n '144212002': [],\n '1576739598': [],\n '2331299': [],\n '1956650': []}"
     },
     "execution_count": 62,
     "metadata": {},
     "output_type": "execute_result"
    }
   ],
   "source": [
    "authorIds = dict()\n",
    "for i, name in enumerate(science_people):\n",
    "    name = name.replace(\" \",\"+\").lower()\n",
    "    response = requests.get(complete_url + name).json()\n",
    "    if len(response[\"data\"]):\n",
    "        authorIds[(response[\"data\"][0]['authorId'])] = list()\n",
    "    if i == 5: break\n",
    "authorIds"
   ],
   "metadata": {
    "collapsed": false
   }
  },
  {
   "cell_type": "code",
   "execution_count": 77,
   "outputs": [
    {
     "data": {
      "text/plain": "{'101236378': {'101236378',\n  '101748268',\n  '108066828',\n  '118597836',\n  '118842067',\n  '120500809',\n  '1379672188',\n  '1422489633',\n  '143604157',\n  '143748180',\n  '144651240',\n  '144787428',\n  '144983715',\n  '145641729',\n  '2028268285',\n  '2075454246',\n  '2112614469',\n  '2118114767',\n  '30346473',\n  '32107505',\n  '38316621',\n  '40561274',\n  '49637716',\n  '50218504',\n  '51056157',\n  '66392671',\n  '70422778',\n  '70454356',\n  '72610419',\n  '80432710',\n  '98601449',\n  '98822172'},\n '144212002': {'103833054',\n  '10769465',\n  '113011351',\n  '113211858',\n  '113914651',\n  '114460984',\n  '114709659',\n  '115010546',\n  '115068402',\n  '115609720',\n  '115850573',\n  '117319147',\n  '117889856',\n  '118201627',\n  '1404609254',\n  '1404876257',\n  '143912271',\n  '143974140',\n  '144088223',\n  '144212002',\n  '145306709',\n  '145380101',\n  '145687960',\n  '152114511',\n  '152823992',\n  '153001151',\n  '153406797',\n  '153823344',\n  '1700820',\n  '2050682428',\n  '2053795092',\n  '2055665491',\n  '2069545921',\n  '2069853127',\n  '2076973482',\n  '2082086417',\n  '2082618790',\n  '2086645034',\n  '2109122930',\n  '2109208462',\n  '2123128994',\n  '2135690807',\n  '2136846296',\n  '2153823',\n  '2155888503',\n  '2188056585',\n  '2272463',\n  '2314259',\n  '2532231',\n  '2532870',\n  '2637629',\n  '2698126',\n  '2709942',\n  '2783626',\n  '2798221',\n  '3170379',\n  '3175174',\n  '3207378',\n  '34669969',\n  '34811200',\n  '35302569',\n  '35466212',\n  '35534678',\n  '37162464',\n  '38036859',\n  '38148608',\n  '3873079',\n  '39003910',\n  '48777528',\n  '49408061',\n  '50561415',\n  '50617806',\n  '52340229',\n  '52633924',\n  '5672274',\n  '6482957',\n  '67128030',\n  '73547986',\n  '8701810',\n  '88991203',\n  '92556131'},\n '1576739598': {'147115675',\n  '148176877',\n  '153554698',\n  '1576739598',\n  '2116149176',\n  '2310860',\n  '2660575',\n  '30291444'},\n '2331299': {'100716450',\n  '101558047',\n  '114148208',\n  '115275872',\n  '115883960',\n  '117132223',\n  '118856559',\n  '120859424',\n  '122393360',\n  '122645565',\n  '122687448',\n  '1422393505',\n  '143992376',\n  '144683191',\n  '144692545',\n  '145746867',\n  '145923539',\n  '15914638',\n  '1799622328',\n  '1889202',\n  '1899733',\n  '1990177',\n  '2004632072',\n  '2117172541',\n  '2118489198',\n  '2144072529',\n  '2331299',\n  '24272142',\n  '2506556',\n  '2636680',\n  '2678456',\n  '2788074',\n  '2933527',\n  '3010534',\n  '3106444',\n  '31585804',\n  '3256078',\n  '33114432',\n  '3376613',\n  '36627841',\n  '40510695',\n  '4141294',\n  '4603804',\n  '46819841',\n  '4700312',\n  '4748704',\n  '4864745',\n  '6045741',\n  '6653106',\n  '7291170',\n  '7784605',\n  '82116510',\n  '83360346',\n  '95491933'},\n '1956650': {'101807192',\n  '102272939',\n  '1387947606',\n  '1416415761',\n  '143866993',\n  '145322445',\n  '1469429065',\n  '152929627',\n  '1690690',\n  '1706831',\n  '1730404',\n  '1797149',\n  '1809355',\n  '1821014',\n  '1956650',\n  '2024440',\n  '2052868563',\n  '2065614779',\n  '2076551386',\n  '2078370923',\n  '2097937153',\n  '2106283346',\n  '2126713846',\n  '2202773794',\n  '2223687',\n  '2815151',\n  '2833301',\n  '2855998',\n  '2963260',\n  '3172497',\n  '32736870',\n  '3316991',\n  '34660791',\n  '41154567',\n  '4156437',\n  '46727363',\n  '47011728',\n  '47203912',\n  '48105233',\n  '49250210',\n  '51889221',\n  '6948417',\n  '70528015',\n  '8201079',\n  '87505204',\n  '88406491',\n  '8977167',\n  '94892499',\n  '9842872'}}"
     },
     "execution_count": 77,
     "metadata": {},
     "output_type": "execute_result"
    }
   ],
   "source": [
    "for i, id in enumerate(authorIds.keys()):\n",
    "    colabs = set()\n",
    "    full_url = BASE_URL + VERSION + \"author/\" + id + \"?\" + \"fields=papers.authors\"\n",
    "    response = requests.get(full_url).json()\n",
    "    for paper in response[\"papers\"]:\n",
    "        for c_id in paper[\"authors\"]:\n",
    "            colabs.add(c_id[\"authorId\"])\n",
    "    authorIds[id] = colabs - set(id)\n",
    "authorIds"
   ],
   "metadata": {
    "collapsed": false
   }
  },
  {
   "cell_type": "code",
   "execution_count": 62,
   "outputs": [],
   "source": [],
   "metadata": {
    "collapsed": false
   }
  },
  {
   "cell_type": "code",
   "execution_count": null,
   "outputs": [],
   "source": [],
   "metadata": {
    "collapsed": false
   }
  }
 ],
 "metadata": {
  "kernelspec": {
   "display_name": "Python 3",
   "language": "python",
   "name": "python3"
  },
  "language_info": {
   "codemirror_mode": {
    "name": "ipython",
    "version": 2
   },
   "file_extension": ".py",
   "mimetype": "text/x-python",
   "name": "python",
   "nbconvert_exporter": "python",
   "pygments_lexer": "ipython2",
   "version": "2.7.6"
  }
 },
 "nbformat": 4,
 "nbformat_minor": 0
}
