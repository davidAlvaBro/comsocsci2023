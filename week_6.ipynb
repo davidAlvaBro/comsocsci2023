{
 "cells": [
  {
   "cell_type": "code",
   "execution_count": 116,
   "metadata": {
    "collapsed": true
   },
   "outputs": [],
   "source": [
    "import networkx as nx\n",
    "from tqdm import tqdm\n",
    "import random\n",
    "import matplotlib.pyplot as plt\n",
    "import numpy as np\n",
    "import pandas as pd"
   ]
  },
  {
   "cell_type": "code",
   "execution_count": 4,
   "outputs": [],
   "source": [
    "CSS_graph = nx.read_graphml('my_data/CSS_graph.graphml')"
   ],
   "metadata": {
    "collapsed": false
   }
  },
  {
   "cell_type": "code",
   "execution_count": 63,
   "outputs": [],
   "source": [
    "def get_matching_att(graph, att):\n",
    "    match_frac = {}\n",
    "    for node in graph.nodes:\n",
    "        counter = 0\n",
    "        neighbors = len(list(graph.neighbors(node)))\n",
    "\n",
    "        if neighbors == 0: match_frac[node] = 0\n",
    "\n",
    "        else:\n",
    "            for neighbor in graph.neighbors(node):\n",
    "                if nx.get_node_attributes(graph, att)[neighbor] == nx.get_node_attributes(graph, att)[node]:\n",
    "                    counter += 1\n",
    "\n",
    "            match_frac[node] = counter / neighbors\n",
    "\n",
    "    return match_frac"
   ],
   "metadata": {
    "collapsed": false
   }
  },
  {
   "cell_type": "code",
   "execution_count": 36,
   "outputs": [
    {
     "name": "stderr",
     "output_type": "stream",
     "text": [
      "100%|██████████| 10727/10727 [02:27<00:00, 72.97it/s] \n"
     ]
    }
   ],
   "source": [
    "top_field_fracs = get_matching_att(CSS_graph, 'att2')"
   ],
   "metadata": {
    "collapsed": false
   }
  },
  {
   "cell_type": "code",
   "execution_count": 97,
   "outputs": [],
   "source": [],
   "metadata": {
    "collapsed": false
   }
  },
  {
   "cell_type": "markdown",
   "source": [
    "#### 1.2 Shuffle the top fields"
   ],
   "metadata": {
    "collapsed": false
   }
  },
  {
   "cell_type": "code",
   "execution_count": 37,
   "outputs": [],
   "source": [
    "CSS_graph_copy = nx.read_graphml('my_data/CSS_graph.graphml')"
   ],
   "metadata": {
    "collapsed": false
   }
  },
  {
   "cell_type": "code",
   "execution_count": 55,
   "outputs": [],
   "source": [
    "def shuffle_node_att(graph, att):\n",
    "    shuffled_atts = nx.get_node_attributes(graph, att)\n",
    "    temp = list(shuffled_atts.values())\n",
    "    random.shuffle(temp)\n",
    "    new_atts = dict(zip(shuffled_atts, temp))\n",
    "\n",
    "    return new_atts"
   ],
   "metadata": {
    "collapsed": false
   }
  },
  {
   "cell_type": "code",
   "execution_count": 60,
   "outputs": [],
   "source": [
    "#Shuffle the top fields:\n",
    "nx.set_node_attributes(CSS_graph_copy, shuffle_node_att(CSS_graph, 'att2'), 'att2')"
   ],
   "metadata": {
    "collapsed": false
   }
  },
  {
   "cell_type": "code",
   "execution_count": 87,
   "outputs": [],
   "source": [
    "def sim_matching_atts(graph, att, N, copy):\n",
    "    sim_matrix = []\n",
    "    for i in tqdm(range(N)):\n",
    "        nx.set_node_attributes(copy, shuffle_node_att(graph, att), att)\n",
    "        sim_matrix.append(list(get_matching_att(copy, att).values()))\n",
    "    return sim_matrix"
   ],
   "metadata": {
    "collapsed": false
   }
  },
  {
   "cell_type": "code",
   "execution_count": 88,
   "outputs": [
    {
     "name": "stderr",
     "output_type": "stream",
     "text": [
      "100%|██████████| 5/5 [12:36<00:00, 151.34s/it]\n"
     ]
    }
   ],
   "source": [
    "# Simulate 100 graphs with random fields\n",
    "sim_matrix = sim_matching_atts(CSS_graph, 'att2', 5, CSS_graph_copy)"
   ],
   "metadata": {
    "collapsed": false
   }
  },
  {
   "cell_type": "code",
   "execution_count": 97,
   "outputs": [
    {
     "data": {
      "text/plain": "(array([196.81068022, 196.81068022,   0.        ,   0.        ,\n        196.81068022,   0.        ,   0.        ,   0.        ,\n          0.        , 393.62136043]),\n array([0.27560534, 0.27662155, 0.27763775, 0.27865396, 0.27967016,\n        0.28068637, 0.28170257, 0.28271878, 0.28373498, 0.28475119,\n        0.28576739]),\n <BarContainer object of 10 artists>)"
     },
     "execution_count": 97,
     "metadata": {},
     "output_type": "execute_result"
    },
    {
     "data": {
      "text/plain": "<Figure size 640x480 with 2 Axes>",
      "image/png": "[encoded data removed]"
     },
     "metadata": {},
     "output_type": "display_data"
    }
   ],
   "source": [
    "#plot distribution for real and sim graphs\n",
    "sim_vector = list(np.concatenate(sim_matrix).flat)\n",
    "figure, ax = plt.subplots(2)\n",
    "bins = 10\n",
    "\n",
    "ax[0].hist(top_field_fracs.values(), density=True, bins = bins)\n",
    "ax[1].hist(sim_vector, density=True, bins = bins)"
   ],
   "metadata": {
    "collapsed": false
   }
  },
  {
   "cell_type": "markdown",
   "source": [
    "#### 1.4 Compute the assortativity coefficient for the network, with respect to author field"
   ],
   "metadata": {
    "collapsed": false
   }
  },
  {
   "cell_type": "code",
   "execution_count": 122,
   "outputs": [
    {
     "name": "stderr",
     "output_type": "stream",
     "text": [
      "100%|██████████| 10727/10727 [01:44<00:00, 102.85it/s]\n",
      "100%|██████████| 22/22 [00:00<00:00, 39.73it/s]\n"
     ]
    }
   ],
   "source": [
    "E = {}\n",
    "list_of_fields =list(set(nx.get_node_attributes(CSS_graph, 'att2').values()))\n",
    "\n",
    "for field in list_of_fields:\n",
    "    E[field] = {}\n",
    "\n",
    "for node in tqdm(CSS_graph.nodes):\n",
    "    node_field = nx.get_node_attributes(CSS_graph, 'att2')[node]\n",
    "\n",
    "    for neighbor in nx.neighbors(CSS_graph, node):\n",
    "        neighbor_field = nx.get_node_attributes(CSS_graph, 'att2')[neighbor]\n",
    "\n",
    "        try:\n",
    "            E[node_field][neighbor_field] +=1\n",
    "        except:\n",
    "            E[node_field][neighbor_field] = 1\n",
    "\n",
    "for field in list_of_fields:\n",
    "    for field2 in list_of_fields:\n",
    "        try:\n",
    "            E[field][field2] = E[field][field2]/(2 * CSS_graph.number_of_edges())\n",
    "        except:\n",
    "            E[field][field2] = 0"
   ],
   "metadata": {
    "collapsed": false
   }
  },
  {
   "cell_type": "code",
   "execution_count": 124,
   "outputs": [
    {
     "data": {
      "text/plain": "{'Philosophy': {'Computer Science': 0.0009067033516758379,\n  'Economics': 0.0002813906953476738,\n  'Psychology': 9.379689844922461e-05,\n  'Business': 0.00018759379689844922,\n  'Biology': 6.25312656328164e-05,\n  'Mathematics': 3.12656328164082e-05,\n  'Sociology': 9.379689844922461e-05,\n  'Medicine': 0.0001250625312656328,\n  'Political Science': 6.25312656328164e-05,\n  'Physics': 3.12656328164082e-05,\n  'Education': 3.12656328164082e-05,\n  'Art': 3.12656328164082e-05,\n  'Chemistry': 3.12656328164082e-05,\n  'Philosophy': 0,\n  'Geology': 0,\n  'Materials Science': 0,\n  'Agricultural And Food Sciences': 0,\n  'History': 0,\n  'Engineering': 0,\n  'Linguistics': 0,\n  'Law': 0,\n  'Environmental Science': 0},\n 'Economics': {'Computer Science': 0.06697098549274637,\n  'Biology': 0.001532016008004002,\n  'Psychology': 0.004439719859929965,\n  'Political Science': 0.003157828914457229,\n  'Economics': 0.04370935467733867,\n  'Education': 0.0010317658829414708,\n  'Geology': 9.379689844922461e-05,\n  'Sociology': 0.0016570785392696348,\n  'Environmental Science': 0.0022823911955977987,\n  'Mathematics': 0.003814407203601801,\n  'Physics': 0.005096298149074537,\n  'Chemistry': 0.00018759379689844922,\n  'Law': 0.0004689844922461231,\n  'Business': 0.00400200100050025,\n  'Engineering': 0.0010005002501250625,\n  'Medicine': 0.0033454227113556777,\n  'History': 6.25312656328164e-05,\n  'Linguistics': 6.25312656328164e-05,\n  'Art': 0.0001250625312656328,\n  'Philosophy': 0.0002813906953476738,\n  'Agricultural And Food Sciences': 3.12656328164082e-05,\n  'Materials Science': 3.12656328164082e-05},\n 'Geology': {'Computer Science': 0.0004689844922461231,\n  'Economics': 9.379689844922461e-05,\n  'Psychology': 6.25312656328164e-05,\n  'Biology': 6.25312656328164e-05,\n  'Business': 3.12656328164082e-05,\n  'Philosophy': 0,\n  'Geology': 0,\n  'Materials Science': 0,\n  'Education': 0,\n  'Political Science': 0,\n  'Agricultural And Food Sciences': 0,\n  'History': 0,\n  'Sociology': 0,\n  'Engineering': 0,\n  'Art': 0,\n  'Physics': 0,\n  'Linguistics': 0,\n  'Medicine': 0,\n  'Law': 0,\n  'Chemistry': 0,\n  'Environmental Science': 0,\n  'Mathematics': 0},\n 'Materials Science': {'Environmental Science': 0.00015632816408204102,\n  'Computer Science': 0.000781640820410205,\n  'Political Science': 3.12656328164082e-05,\n  'Biology': 0.00031265632816408203,\n  'Physics': 0.00037518759379689845,\n  'Materials Science': 0.0002501250625312656,\n  'Psychology': 6.25312656328164e-05,\n  'Medicine': 3.12656328164082e-05,\n  'Sociology': 3.12656328164082e-05,\n  'Economics': 3.12656328164082e-05,\n  'Chemistry': 0.0001250625312656328,\n  'Philosophy': 0,\n  'Geology': 0,\n  'Education': 0,\n  'Agricultural And Food Sciences': 0,\n  'History': 0,\n  'Business': 0,\n  'Engineering': 0,\n  'Art': 0,\n  'Linguistics': 0,\n  'Law': 0,\n  'Mathematics': 0},\n 'Education': {'Computer Science': 0.005721610805402701,\n  'Sociology': 0.0007503751875937969,\n  'Education': 0.0015007503751875938,\n  'Economics': 0.0010317658829414708,\n  'Psychology': 0.0005627813906953476,\n  'Environmental Science': 6.25312656328164e-05,\n  'Medicine': 0.0005315157578789395,\n  'Political Science': 0.00034392196098049024,\n  'Art': 0.00015632816408204102,\n  'Biology': 0.0005315157578789395,\n  'Business': 0.00021885942971485743,\n  'Philosophy': 3.12656328164082e-05,\n  'Mathematics': 0.00015632816408204102,\n  'History': 6.25312656328164e-05,\n  'Law': 3.12656328164082e-05,\n  'Geology': 0,\n  'Materials Science': 0,\n  'Agricultural And Food Sciences': 0,\n  'Engineering': 0,\n  'Physics': 0,\n  'Linguistics': 0,\n  'Chemistry': 0},\n 'Political Science': {'Computer Science': 0.01619559779889945,\n  'Sociology': 0.0026575787893946975,\n  'Political Science': 0.0069409704852426216,\n  'Economics': 0.003157828914457229,\n  'Physics': 0.0005940470235117559,\n  'Business': 0.0005940470235117559,\n  'Biology': 0.00021885942971485743,\n  'Medicine': 0.001688344172086043,\n  'Psychology': 0.0022511255627813906,\n  'Mathematics': 0.00015632816408204102,\n  'Education': 0.00034392196098049024,\n  'Art': 0.0001250625312656328,\n  'History': 0.0001250625312656328,\n  'Environmental Science': 0.00037518759379689845,\n  'Philosophy': 6.25312656328164e-05,\n  'Agricultural And Food Sciences': 3.12656328164082e-05,\n  'Materials Science': 3.12656328164082e-05,\n  'Engineering': 9.379689844922461e-05,\n  'Law': 0.00015632816408204102,\n  'Linguistics': 3.12656328164082e-05,\n  'Geology': 0,\n  'Chemistry': 0},\n 'Agricultural And Food Sciences': {'Political Science': 3.12656328164082e-05,\n  'Economics': 3.12656328164082e-05,\n  'Computer Science': 0.0001250625312656328,\n  'Physics': 3.12656328164082e-05,\n  'Philosophy': 0,\n  'Geology': 0,\n  'Materials Science': 0,\n  'Education': 0,\n  'Agricultural And Food Sciences': 0,\n  'History': 0,\n  'Biology': 0,\n  'Business': 0,\n  'Sociology': 0,\n  'Engineering': 0,\n  'Art': 0,\n  'Linguistics': 0,\n  'Medicine': 0,\n  'Law': 0,\n  'Chemistry': 0,\n  'Environmental Science': 0,\n  'Mathematics': 0,\n  'Psychology': 0},\n 'History': {'Computer Science': 0.0008129064532266133,\n  'Economics': 6.25312656328164e-05,\n  'Physics': 3.12656328164082e-05,\n  'Psychology': 6.25312656328164e-05,\n  'Law': 3.12656328164082e-05,\n  'Sociology': 0.0002501250625312656,\n  'Political Science': 0.0001250625312656328,\n  'Business': 3.12656328164082e-05,\n  'Biology': 3.12656328164082e-05,\n  'Education': 6.25312656328164e-05,\n  'Philosophy': 0,\n  'Geology': 0,\n  'Materials Science': 0,\n  'Agricultural And Food Sciences': 0,\n  'History': 0,\n  'Engineering': 0,\n  'Art': 0,\n  'Linguistics': 0,\n  'Medicine': 0,\n  'Chemistry': 0,\n  'Environmental Science': 0,\n  'Mathematics': 0},\n 'Computer Science': {'Computer Science': 0.3643696848424212,\n  'Economics': 0.06697098549274637,\n  'Psychology': 0.022511255627813906,\n  'Medicine': 0.0205727863931966,\n  'Business': 0.013694347173586793,\n  'Sociology': 0.013725612806403201,\n  'Political Science': 0.01619559779889945,\n  'Linguistics': 0.0017508754377188595,\n  'Education': 0.005721610805402701,\n  'Physics': 0.00644072036018009,\n  'Environmental Science': 0.007066033016508254,\n  'Philosophy': 0.0009067033516758379,\n  'Engineering': 0.0022511255627813906,\n  'Art': 0.002407453726863432,\n  'Materials Science': 0.000781640820410205,\n  'Biology': 0.007503751875937969,\n  'Mathematics': 0.004283391695847924,\n  'Geology': 0.0004689844922461231,\n  'Chemistry': 0.00043771885942971487,\n  'Law': 0.001063031515757879,\n  'History': 0.0008129064532266133,\n  'Agricultural And Food Sciences': 0.0001250625312656328},\n 'Biology': {'Computer Science': 0.007503751875937969,\n  'Biology': 0.005315157578789395,\n  'Medicine': 0.001688344172086043,\n  'Education': 0.0005315157578789395,\n  'Sociology': 0.00034392196098049024,\n  'Economics': 0.001532016008004002,\n  'Mathematics': 0.00040645322661330666,\n  'Physics': 0.0013444222111055528,\n  'Law': 3.12656328164082e-05,\n  'Geology': 6.25312656328164e-05,\n  'Business': 0.0001250625312656328,\n  'History': 3.12656328164082e-05,\n  'Psychology': 0.0005002501250625312,\n  'Political Science': 0.00021885942971485743,\n  'Art': 6.25312656328164e-05,\n  'Environmental Science': 0.0006565782891445723,\n  'Engineering': 0.00015632816408204102,\n  'Materials Science': 0.00031265632816408203,\n  'Philosophy': 6.25312656328164e-05,\n  'Agricultural And Food Sciences': 0,\n  'Linguistics': 0,\n  'Chemistry': 0},\n 'Business': {'Computer Science': 0.013694347173586793,\n  'Psychology': 0.0012506253126563281,\n  'Economics': 0.00400200100050025,\n  'Law': 9.379689844922461e-05,\n  'Education': 0.00021885942971485743,\n  'History': 3.12656328164082e-05,\n  'Sociology': 0.0005627813906953476,\n  'Biology': 0.0001250625312656328,\n  'Physics': 0.00034392196098049024,\n  'Art': 0.0001250625312656328,\n  'Business': 0.0035642821410705352,\n  'Philosophy': 0.00018759379689844922,\n  'Chemistry': 9.379689844922461e-05,\n  'Mathematics': 0.0002501250625312656,\n  'Medicine': 0.0006565782891445723,\n  'Environmental Science': 0.00031265632816408203,\n  'Engineering': 0.00015632816408204102,\n  'Political Science': 0.0005940470235117559,\n  'Geology': 3.12656328164082e-05,\n  'Materials Science': 0,\n  'Agricultural And Food Sciences': 0,\n  'Linguistics': 0},\n 'Sociology': {'Computer Science': 0.013725612806403201,\n  'Political Science': 0.0026575787893946975,\n  'Sociology': 0.004814907453726864,\n  'Medicine': 0.0005940470235117559,\n  'Economics': 0.0016570785392696348,\n  'Psychology': 0.0012818909454727363,\n  'Law': 0.00018759379689844922,\n  'Education': 0.0007503751875937969,\n  'Art': 0.0002501250625312656,\n  'Business': 0.0005627813906953476,\n  'Environmental Science': 0.0001250625312656328,\n  'Philosophy': 9.379689844922461e-05,\n  'History': 0.0002501250625312656,\n  'Linguistics': 0.0001250625312656328,\n  'Biology': 0.00034392196098049024,\n  'Materials Science': 3.12656328164082e-05,\n  'Physics': 0.0002501250625312656,\n  'Engineering': 9.379689844922461e-05,\n  'Mathematics': 3.12656328164082e-05,\n  'Geology': 0,\n  'Agricultural And Food Sciences': 0,\n  'Chemistry': 0},\n 'Engineering': {'Computer Science': 0.0022511255627813906,\n  'Engineering': 0.00037518759379689845,\n  'Economics': 0.0010005002501250625,\n  'Psychology': 0.0001250625312656328,\n  'Sociology': 9.379689844922461e-05,\n  'Biology': 0.00015632816408204102,\n  'Medicine': 6.25312656328164e-05,\n  'Business': 0.00015632816408204102,\n  'Physics': 0.00015632816408204102,\n  'Mathematics': 0.00015632816408204102,\n  'Environmental Science': 0.00018759379689844922,\n  'Political Science': 9.379689844922461e-05,\n  'Chemistry': 3.12656328164082e-05,\n  'Philosophy': 0,\n  'Geology': 0,\n  'Materials Science': 0,\n  'Education': 0,\n  'Agricultural And Food Sciences': 0,\n  'History': 0,\n  'Art': 0,\n  'Linguistics': 0,\n  'Law': 0},\n 'Art': {'Computer Science': 0.002407453726863432,\n  'Political Science': 0.0001250625312656328,\n  'Sociology': 0.0002501250625312656,\n  'Education': 0.00015632816408204102,\n  'Art': 0.00037518759379689845,\n  'Business': 0.0001250625312656328,\n  'Physics': 3.12656328164082e-05,\n  'Psychology': 0.00021885942971485743,\n  'Biology': 6.25312656328164e-05,\n  'Philosophy': 3.12656328164082e-05,\n  'Economics': 0.0001250625312656328,\n  'Law': 3.12656328164082e-05,\n  'Medicine': 6.25312656328164e-05,\n  'Geology': 0,\n  'Materials Science': 0,\n  'Agricultural And Food Sciences': 0,\n  'History': 0,\n  'Engineering': 0,\n  'Linguistics': 0,\n  'Chemistry': 0,\n  'Environmental Science': 0,\n  'Mathematics': 0},\n 'Physics': {'Computer Science': 0.00644072036018009,\n  'Physics': 0.006128064032016008,\n  'Economics': 0.005096298149074537,\n  'Environmental Science': 0.0008441720860430215,\n  'Medicine': 0.0010942971485742871,\n  'Psychology': 0.0008754377188594297,\n  'Materials Science': 0.00037518759379689845,\n  'Chemistry': 0.0002813906953476738,\n  'Political Science': 0.0005940470235117559,\n  'Business': 0.00034392196098049024,\n  'Mathematics': 0.0002813906953476738,\n  'Linguistics': 3.12656328164082e-05,\n  'Biology': 0.0013444222111055528,\n  'Sociology': 0.0002501250625312656,\n  'Law': 6.25312656328164e-05,\n  'Philosophy': 3.12656328164082e-05,\n  'Engineering': 0.00015632816408204102,\n  'Agricultural And Food Sciences': 3.12656328164082e-05,\n  'Art': 3.12656328164082e-05,\n  'History': 3.12656328164082e-05,\n  'Geology': 0,\n  'Education': 0},\n 'Linguistics': {'Computer Science': 0.0017508754377188595,\n  'Environmental Science': 6.25312656328164e-05,\n  'Linguistics': 0.0001250625312656328,\n  'Psychology': 6.25312656328164e-05,\n  'Economics': 6.25312656328164e-05,\n  'Sociology': 0.0001250625312656328,\n  'Political Science': 3.12656328164082e-05,\n  'Physics': 3.12656328164082e-05,\n  'Philosophy': 0,\n  'Geology': 0,\n  'Materials Science': 0,\n  'Education': 0,\n  'Agricultural And Food Sciences': 0,\n  'History': 0,\n  'Biology': 0,\n  'Business': 0,\n  'Engineering': 0,\n  'Art': 0,\n  'Medicine': 0,\n  'Law': 0,\n  'Chemistry': 0,\n  'Mathematics': 0},\n 'Medicine': {'Computer Science': 0.0205727863931966,\n  'Economics': 0.0033454227113556777,\n  'Medicine': 0.017696348174087044,\n  'Psychology': 0.002313656828414207,\n  'Art': 6.25312656328164e-05,\n  'Political Science': 0.001688344172086043,\n  'Business': 0.0006565782891445723,\n  'Sociology': 0.0005940470235117559,\n  'Mathematics': 0.0010317658829414708,\n  'Biology': 0.001688344172086043,\n  'Physics': 0.0010942971485742871,\n  'Environmental Science': 0.0010942971485742871,\n  'Chemistry': 3.12656328164082e-05,\n  'Education': 0.0005315157578789395,\n  'Engineering': 6.25312656328164e-05,\n  'Materials Science': 3.12656328164082e-05,\n  'Philosophy': 0.0001250625312656328,\n  'Law': 3.12656328164082e-05,\n  'Geology': 0,\n  'Agricultural And Food Sciences': 0,\n  'History': 0,\n  'Linguistics': 0},\n 'Law': {'Computer Science': 0.001063031515757879,\n  'Psychology': 0.00015632816408204102,\n  'Sociology': 0.00018759379689844922,\n  'History': 3.12656328164082e-05,\n  'Business': 9.379689844922461e-05,\n  'Economics': 0.0004689844922461231,\n  'Education': 3.12656328164082e-05,\n  'Political Science': 0.00015632816408204102,\n  'Physics': 6.25312656328164e-05,\n  'Law': 6.25312656328164e-05,\n  'Biology': 3.12656328164082e-05,\n  'Art': 3.12656328164082e-05,\n  'Medicine': 3.12656328164082e-05,\n  'Philosophy': 0,\n  'Geology': 0,\n  'Materials Science': 0,\n  'Agricultural And Food Sciences': 0,\n  'Engineering': 0,\n  'Linguistics': 0,\n  'Chemistry': 0,\n  'Environmental Science': 0,\n  'Mathematics': 0},\n 'Chemistry': {'Computer Science': 0.00043771885942971487,\n  'Physics': 0.0002813906953476738,\n  'Materials Science': 0.0001250625312656328,\n  'Chemistry': 0.0001250625312656328,\n  'Business': 9.379689844922461e-05,\n  'Philosophy': 3.12656328164082e-05,\n  'Economics': 0.00018759379689844922,\n  'Mathematics': 3.12656328164082e-05,\n  'Medicine': 3.12656328164082e-05,\n  'Engineering': 3.12656328164082e-05,\n  'Environmental Science': 3.12656328164082e-05,\n  'Geology': 0,\n  'Education': 0,\n  'Political Science': 0,\n  'Agricultural And Food Sciences': 0,\n  'History': 0,\n  'Biology': 0,\n  'Sociology': 0,\n  'Art': 0,\n  'Linguistics': 0,\n  'Law': 0,\n  'Psychology': 0},\n 'Environmental Science': {'Computer Science': 0.007066033016508254,\n  'Physics': 0.0008441720860430215,\n  'Environmental Science': 0.0025012506253126563,\n  'Mathematics': 0.00031265632816408203,\n  'Economics': 0.0022823911955977987,\n  'Materials Science': 0.00015632816408204102,\n  'Medicine': 0.0010942971485742871,\n  'Business': 0.00031265632816408203,\n  'Psychology': 0.00018759379689844922,\n  'Political Science': 0.00037518759379689845,\n  'Biology': 0.0006565782891445723,\n  'Sociology': 0.0001250625312656328,\n  'Chemistry': 3.12656328164082e-05,\n  'Engineering': 0.00018759379689844922,\n  'Linguistics': 6.25312656328164e-05,\n  'Education': 6.25312656328164e-05,\n  'Philosophy': 0,\n  'Geology': 0,\n  'Agricultural And Food Sciences': 0,\n  'History': 0,\n  'Art': 0,\n  'Law': 0},\n 'Mathematics': {'Economics': 0.003814407203601801,\n  'Mathematics': 0.002751375687843922,\n  'Computer Science': 0.004283391695847924,\n  'Engineering': 0.00015632816408204102,\n  'Medicine': 0.0010317658829414708,\n  'Environmental Science': 0.00031265632816408203,\n  'Psychology': 0.00043771885942971487,\n  'Physics': 0.0002813906953476738,\n  'Education': 0.00015632816408204102,\n  'Business': 0.0002501250625312656,\n  'Biology': 0.00040645322661330666,\n  'Chemistry': 3.12656328164082e-05,\n  'Political Science': 0.00015632816408204102,\n  'Philosophy': 3.12656328164082e-05,\n  'Sociology': 3.12656328164082e-05,\n  'Geology': 0,\n  'Materials Science': 0,\n  'Agricultural And Food Sciences': 0,\n  'History': 0,\n  'Art': 0,\n  'Linguistics': 0,\n  'Law': 0},\n 'Psychology': {'Computer Science': 0.022511255627813906,\n  'Economics': 0.004439719859929965,\n  'Business': 0.0012506253126563281,\n  'Psychology': 0.007691345672836418,\n  'Physics': 0.0008754377188594297,\n  'Sociology': 0.0012818909454727363,\n  'Biology': 0.0005002501250625312,\n  'Medicine': 0.002313656828414207,\n  'Political Science': 0.0022511255627813906,\n  'Geology': 6.25312656328164e-05,\n  'Mathematics': 0.00043771885942971487,\n  'Education': 0.0005627813906953476,\n  'Engineering': 0.0001250625312656328,\n  'Linguistics': 6.25312656328164e-05,\n  'Environmental Science': 0.00018759379689844922,\n  'Art': 0.00021885942971485743,\n  'Law': 0.00015632816408204102,\n  'Philosophy': 9.379689844922461e-05,\n  'History': 6.25312656328164e-05,\n  'Materials Science': 6.25312656328164e-05,\n  'Agricultural And Food Sciences': 0,\n  'Chemistry': 0}}"
     },
     "execution_count": 124,
     "metadata": {},
     "output_type": "execute_result"
    }
   ],
   "source": [
    "E"
   ],
   "metadata": {
    "collapsed": false
   }
  },
  {
   "cell_type": "code",
   "execution_count": 131,
   "outputs": [
    {
     "name": "stderr",
     "output_type": "stream",
     "text": [
      "100%|██████████| 22/22 [00:00<00:00, 21970.16it/s]\n"
     ]
    },
    {
     "data": {
      "text/plain": "1.000000000000002"
     },
     "execution_count": 131,
     "metadata": {},
     "output_type": "execute_result"
    }
   ],
   "source": [
    "#Check of the E matrix to see if it upholds that sum(e_{i,j}) = 1\n",
    "# And make the dict to a matrix\n",
    "s = 0\n",
    "matrix_E = []\n",
    "for field in list_of_fields:\n",
    "    matrix_E.append(list(E[field].values()))\n",
    "    for field2 in E[field].keys():\n",
    "        s += E[field][field2]\n",
    "s"
   ],
   "metadata": {
    "collapsed": false
   }
  },
  {
   "cell_type": "code",
   "execution_count": 126,
   "outputs": [],
   "source": [
    "A = B = [val for field in list_of_fields for val in E[field].values()]"
   ],
   "metadata": {
    "collapsed": false
   }
  },
  {
   "cell_type": "code",
   "execution_count": 140,
   "outputs": [
    {
     "data": {
      "text/plain": "-0.15774484986802267"
     },
     "execution_count": 140,
     "metadata": {},
     "output_type": "execute_result"
    }
   ],
   "source": [
    "assortative_coefficient = (sum(np.diagonal(matrix_E)) - sum(np.array(A) * np.array(B))) / (1 - sum(np.array(A) * np.array(B)))\n",
    "assortative_coefficient"
   ],
   "metadata": {
    "collapsed": false
   }
  },
  {
   "cell_type": "code",
   "execution_count": 139,
   "outputs": [
    {
     "data": {
      "text/plain": "0.19011838960820351"
     },
     "execution_count": 139,
     "metadata": {},
     "output_type": "execute_result"
    }
   ],
   "source": [
    "nx.attribute_assortativity_coefficient(CSS_graph, 'att2')"
   ],
   "metadata": {
    "collapsed": false
   }
  }
 ],
 "metadata": {
  "kernelspec": {
   "display_name": "Python 3",
   "language": "python",
   "name": "python3"
  },
  "language_info": {
   "codemirror_mode": {
    "name": "ipython",
    "version": 2
   },
   "file_extension": ".py",
   "mimetype": "text/x-python",
   "name": "python",
   "nbconvert_exporter": "python",
   "pygments_lexer": "ipython2",
   "version": "2.7.6"
  }
 },
 "nbformat": 4,
 "nbformat_minor": 0
}
