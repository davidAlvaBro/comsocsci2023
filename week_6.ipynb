{
 "cells": [
  {
   "cell_type": "code",
   "execution_count": 13,
   "metadata": {
    "collapsed": true
   },
   "outputs": [],
   "source": [
    "import networkx as nx\n",
    "from tqdm import tqdm\n",
    "import random\n",
    "import matplotlib.pyplot as plt\n",
    "import numpy as np\n",
    "import pandas as pd"
   ]
  },
  {
   "cell_type": "code",
   "execution_count": 14,
   "outputs": [],
   "source": [
    "CSS_graph = nx.read_graphml('my_data/CSS_graph.graphml')"
   ],
   "metadata": {
    "collapsed": false
   }
  },
  {
   "cell_type": "code",
   "execution_count": 15,
   "outputs": [],
   "source": [
    "def get_matching_att(graph, att):\n",
    "    match_frac = {}\n",
    "    for node in graph.nodes:\n",
    "        counter = 0\n",
    "        neighbors = len(list(graph.neighbors(node)))\n",
    "\n",
    "        if neighbors == 0: match_frac[node] = 0\n",
    "\n",
    "        else:\n",
    "            for neighbor in graph.neighbors(node):\n",
    "                if nx.get_node_attributes(graph, att)[neighbor] == nx.get_node_attributes(graph, att)[node]:\n",
    "                    counter += 1\n",
    "\n",
    "            match_frac[node] = counter / neighbors\n",
    "\n",
    "    return match_frac"
   ],
   "metadata": {
    "collapsed": false
   }
  },
  {
   "cell_type": "code",
   "execution_count": 16,
   "outputs": [],
   "source": [
    "top_field_fracs = get_matching_att(CSS_graph, 'att2')"
   ],
   "metadata": {
    "collapsed": false
   }
  },
  {
   "cell_type": "code",
   "execution_count": 190,
   "outputs": [
    {
     "name": "stdout",
     "output_type": "stream",
     "text": [
      "average across all nodes 0.3559081424843902\n"
     ]
    }
   ],
   "source": [
    "print(f\"Average across all nodes {np.mean(list(top_field_fracs.values()))}\")"
   ],
   "metadata": {
    "collapsed": false
   }
  },
  {
   "cell_type": "markdown",
   "source": [
    "#### 1.2 Shuffle the top fields"
   ],
   "metadata": {
    "collapsed": false
   }
  },
  {
   "cell_type": "code",
   "execution_count": 5,
   "outputs": [],
   "source": [
    "CSS_graph_copy = nx.read_graphml('my_data/CSS_graph.graphml')"
   ],
   "metadata": {
    "collapsed": false
   }
  },
  {
   "cell_type": "code",
   "execution_count": 6,
   "outputs": [],
   "source": [
    "def shuffle_node_att(graph, att):\n",
    "    shuffled_atts = nx.get_node_attributes(graph, att)\n",
    "    temp = list(shuffled_atts.values())\n",
    "    random.shuffle(temp)\n",
    "    new_atts = dict(zip(shuffled_atts, temp))\n",
    "\n",
    "    return new_atts"
   ],
   "metadata": {
    "collapsed": false
   }
  },
  {
   "cell_type": "code",
   "execution_count": 60,
   "outputs": [],
   "source": [
    "#Shuffle the top fields:\n",
    "nx.set_node_attributes(CSS_graph_copy, shuffle_node_att(CSS_graph, 'att2'), 'att2')"
   ],
   "metadata": {
    "collapsed": false
   }
  },
  {
   "cell_type": "code",
   "execution_count": 7,
   "outputs": [],
   "source": [
    "def sim_matching_atts(graph, att, N, copy):\n",
    "    sim_matrix = []\n",
    "    for i in tqdm(range(N)):\n",
    "        nx.set_node_attributes(copy, shuffle_node_att(graph, att), att)\n",
    "        sim_matrix.append(list(get_matching_att(copy, att).values()))\n",
    "    return sim_matrix"
   ],
   "metadata": {
    "collapsed": false
   }
  },
  {
   "cell_type": "markdown",
   "source": [
    "### 1.3 Repeat the above atleast 100 times and plot the distribution"
   ],
   "metadata": {
    "collapsed": false
   }
  },
  {
   "cell_type": "code",
   "execution_count": 9,
   "outputs": [
    {
     "name": "stderr",
     "output_type": "stream",
     "text": [
      "100%|██████████| 300/300 [13:12:58<00:00, 158.60s/it]  \n"
     ]
    }
   ],
   "source": [
    "# Simulate 100 graphs with random fields\n",
    "# Takes about N*2.5min to run\n",
    "#sim_matrix = sim_matching_atts(CSS_graph, 'att2', 300, CSS_graph_copy)\n",
    "#np.save(\"sim_matrix\", sim_matrix)"
   ],
   "metadata": {
    "collapsed": false
   }
  },
  {
   "cell_type": "code",
   "execution_count": 11,
   "outputs": [],
   "source": [
    "#Load sim results\n",
    "sim_matrix = np.load('sim_matrix.npy')"
   ],
   "metadata": {
    "collapsed": false
   }
  },
  {
   "cell_type": "code",
   "execution_count": 17,
   "outputs": [
    {
     "data": {
      "text/plain": "(array([ 13.73177114,  27.46354228,  44.6282562 ,  73.80826987,\n        115.00358329,  96.12239797,  85.82356962,  34.32942785,\n         15.44824253,   8.58235696]),\n array([0.27025986, 0.27220183, 0.27414379, 0.27608576, 0.27802773,\n        0.2799697 , 0.28191167, 0.28385364, 0.2857956 , 0.28773757,\n        0.28967954]),\n <BarContainer object of 10 artists>)"
     },
     "execution_count": 17,
     "metadata": {},
     "output_type": "execute_result"
    },
    {
     "data": {
      "text/plain": "<Figure size 640x480 with 2 Axes>",
      "image/png": "[encoded data removed]"
     },
     "metadata": {},
     "output_type": "display_data"
    }
   ],
   "source": [
    "#plot distribution for real and sim graphs\n",
    "sim_vector = [np.mean(sublist) for  sublist in sim_matrix]\n",
    "figure, ax = plt.subplots(2)\n",
    "bins = 10\n",
    "\n",
    "ax[0].hist(top_field_fracs.values(), density=True, bins = bins)\n",
    "ax[1].hist(sim_vector, density=True, bins = bins)"
   ],
   "metadata": {
    "collapsed": false
   }
  },
  {
   "cell_type": "markdown",
   "source": [
    "### TODO interprete the the plots"
   ],
   "metadata": {
    "collapsed": false
   }
  },
  {
   "cell_type": "markdown",
   "source": [
    "#### 1.4 Compute the assortativity coefficient for the network, with respect to author field"
   ],
   "metadata": {
    "collapsed": false
   }
  },
  {
   "cell_type": "code",
   "execution_count": 162,
   "outputs": [
    {
     "name": "stderr",
     "output_type": "stream",
     "text": [
      "100%|██████████| 10727/10727 [01:40<00:00, 106.72it/s]\n"
     ]
    }
   ],
   "source": [
    "E = {}\n",
    "list_of_fields =list(set(nx.get_node_attributes(CSS_graph, 'att2').values()))\n",
    "\n",
    "for field in list_of_fields:\n",
    "    E[field] = {}\n",
    "    for field2 in list_of_fields:\n",
    "        E[field][field2] = 0\n",
    "\n",
    "for node in tqdm(CSS_graph.nodes):\n",
    "    node_field = nx.get_node_attributes(CSS_graph, 'att2')[node]\n",
    "\n",
    "    for neighbor in nx.neighbors(CSS_graph, node):\n",
    "        neighbor_field = nx.get_node_attributes(CSS_graph, 'att2')[neighbor]\n",
    "        E[node_field][neighbor_field] +=1\n",
    "\n",
    "\n",
    "for field in list_of_fields:\n",
    "    for field2 in list_of_fields:\n",
    "        #number_in_field = nx.get_node_attributes()\n",
    "        E[field][field2] = E[field][field2]/(2 * CSS_graph.number_of_edges())\n"
   ],
   "metadata": {
    "collapsed": false
   }
  },
  {
   "cell_type": "code",
   "execution_count": 163,
   "outputs": [],
   "source": [
    "#Hvis man ikke vil lave en masse forloop\n",
    "#E_nx = nx.attribute_mixing_matrix(CSS_graph, attribute='att2')"
   ],
   "metadata": {
    "collapsed": false
   }
  },
  {
   "cell_type": "code",
   "execution_count": 164,
   "outputs": [
    {
     "data": {
      "text/plain": "1.000000000000002"
     },
     "execution_count": 164,
     "metadata": {},
     "output_type": "execute_result"
    }
   ],
   "source": [
    "#Check of the E matrix to see if it upholds that sum(e_{i,j}) = 1\n",
    "# And make the dict to a matrix\n",
    "s = 0\n",
    "matrix_E = []\n",
    "for field in list_of_fields:\n",
    "    matrix_E.append(list(E[field].values()))\n",
    "    for field2 in E[field].keys():\n",
    "        s += E[field][field2]\n",
    "s"
   ],
   "metadata": {
    "collapsed": false
   }
  },
  {
   "cell_type": "code",
   "execution_count": 165,
   "outputs": [],
   "source": [
    "for sublist1, sublist2 in zip(E_nx, matrix_E):\n",
    "    if not np.any(sublist1 == sublist2):\n",
    "        print('Deviation')\n"
   ],
   "metadata": {
    "collapsed": false
   }
  },
  {
   "cell_type": "code",
   "execution_count": 166,
   "outputs": [],
   "source": [
    "A = B = [sum(sublist) for sublist in matrix_E]"
   ],
   "metadata": {
    "collapsed": false
   }
  },
  {
   "cell_type": "code",
   "execution_count": 170,
   "outputs": [
    {
     "name": "stdout",
     "output_type": "stream",
     "text": [
      "The assortive coeffiecnt is: 0.19011838960820351. Using the NetworkX method we get 0.19011838960820351\n",
      "Check if they are the same: True\n"
     ]
    }
   ],
   "source": [
    "assortative_coefficient = (sum(np.diagonal(matrix_E)) - sum(np.array(A) * np.array(B))) / (1 - sum(np.array(A) * np.array(B)))\n",
    "\n",
    "print(f\"The assortive coeffiecnt is: {assortative_coefficient}. Using the NetworkX method we get {nx.attribute_assortativity_coefficient(CSS_graph, 'att2')}\")\n",
    "print(\"Check if they are the same:\", assortative_coefficient == nx.attribute_assortativity_coefficient(CSS_graph, 'att2'))"
   ],
   "metadata": {
    "collapsed": false
   }
  },
  {
   "cell_type": "markdown",
   "source": [
    "#### 1.5 Graph assortativity with regards to degree"
   ],
   "metadata": {
    "collapsed": false
   }
  },
  {
   "cell_type": "code",
   "execution_count": 180,
   "outputs": [
    {
     "name": "stderr",
     "output_type": "stream",
     "text": [
      "100%|██████████| 10727/10727 [00:00<00:00, 338008.41it/s]\n"
     ]
    }
   ],
   "source": [
    "E_degree = {}\n",
    "threshold = 10\n",
    "degrees = ['High', 'Low']\n",
    "\n",
    "for degree1 in degrees:\n",
    "    E_degree[degree1] = {}\n",
    "    for degree2 in degrees:\n",
    "        E_degree[degree1][degree2] = 0\n",
    "\n",
    "for node in tqdm(CSS_graph.nodes):\n",
    "    node_degree = nx.degree(CSS_graph, node)\n",
    "    if node_degree > threshold: node_degree = 'High'\n",
    "    else: node_degree = 'Low'\n",
    "    for neighbor in nx.neighbors(CSS_graph, node):\n",
    "        neighbor_degree = nx.degree(CSS_graph, neighbor)\n",
    "\n",
    "        if neighbor_degree > threshold: neighbor_degree = 'High'\n",
    "        else: neighbor_degree = 'Low'\n",
    "\n",
    "        E_degree[node_degree][neighbor_degree] +=1\n",
    "\n",
    "\n",
    "for degree1 in degrees:\n",
    "    for degree2 in degrees:\n",
    "        E_degree[degree1][degree2] = E_degree[degree1][degree2]/(2 * CSS_graph.number_of_edges())\n"
   ],
   "metadata": {
    "collapsed": false
   }
  },
  {
   "cell_type": "code",
   "execution_count": 181,
   "outputs": [],
   "source": [
    "#Create maxtrix and calc A and B\n",
    "matrix_E_degree = []\n",
    "for degree in degrees:\n",
    "    matrix_E_degree.append(list(E[degree].values()))\n",
    "\n",
    "A_degree = B_degree = [sum(sublist) for sublist in matrix_E_degree]"
   ],
   "metadata": {
    "collapsed": false
   }
  },
  {
   "cell_type": "code",
   "execution_count": 183,
   "outputs": [
    {
     "name": "stdout",
     "output_type": "stream",
     "text": [
      "The assortive coeffiecnt is: 2.073105685192636e-05\n"
     ]
    }
   ],
   "source": [
    "assortative_coefficient = (sum(np.diagonal(matrix_E_degree)) - sum(np.array(A_degree) * np.array(B_degree))) / (1 - sum(np.array(A_degree) * np.array(B_degree)))\n",
    "\n",
    "print(f\"The assortive coeffiecnt is: {assortative_coefficient}\")"
   ],
   "metadata": {
    "collapsed": false
   }
  },
  {
   "cell_type": "markdown",
   "source": [
    "### TODO interprete the answer"
   ],
   "metadata": {
    "collapsed": false
   }
  },
  {
   "cell_type": "markdown",
   "source": [],
   "metadata": {
    "collapsed": false
   }
  }
 ],
 "metadata": {
  "kernelspec": {
   "display_name": "Python 3",
   "language": "python",
   "name": "python3"
  },
  "language_info": {
   "codemirror_mode": {
    "name": "ipython",
    "version": 2
   },
   "file_extension": ".py",
   "mimetype": "text/x-python",
   "name": "python",
   "nbconvert_exporter": "python",
   "pygments_lexer": "ipython2",
   "version": "2.7.6"
  }
 },
 "nbformat": 4,
 "nbformat_minor": 0
}
