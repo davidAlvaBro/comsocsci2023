{
 "cells": [
  {
   "attachments": {},
   "cell_type": "markdown",
   "metadata": {},
   "source": [
    "# Part 2"
   ]
  },
  {
   "cell_type": "code",
   "execution_count": 76,
   "metadata": {},
   "outputs": [],
   "source": [
    "#Imports Section\n",
    "\n",
    "import networkx as nx\n",
    "import numpy as np\n",
    "from tqdm import tqdm\n",
    "import netwulf"
   ]
  },
  {
   "attachments": {},
   "cell_type": "markdown",
   "metadata": {},
   "source": [
    "## Exercise 1"
   ]
  },
  {
   "cell_type": "code",
   "execution_count": 114,
   "metadata": {},
   "outputs": [],
   "source": [
    "#Defining the karateclub data as a function\n",
    "\n",
    "karclub_data = nx.karate_club_graph()"
   ]
  },
  {
   "cell_type": "code",
   "execution_count": 116,
   "metadata": {},
   "outputs": [],
   "source": [
    "#Setting the color of each node based on the club split\n",
    "\n",
    "karclub_data\n",
    "club_membership = nx.get_node_attributes(karclub_data, \"club\")"
   ]
  },
  {
   "cell_type": "code",
   "execution_count": 123,
   "metadata": {},
   "outputs": [],
   "source": [
    "#setting the colors of different club nodes\n",
    "colors = {}\n",
    "clubs = []#For use later\n",
    "mrhi_members = []\n",
    "officer_members = []\n",
    "\n",
    "for node in range(len(karclub_data.nodes)):\n",
    "    if club_membership[node] == 'Mr. Hi': \n",
    "        colors[node] = \"blue\"\n",
    "        mrhi_members.append(node)\n",
    "    else:\n",
    "        colors[node] = \"red\"\n",
    "        officer_members.append(node)\n",
    "\n",
    "clubs.append(mrhi_members)\n",
    "clubs.append(officer_members)\n",
    "nx.set_node_attributes(karclub_data,colors,\"color\")"
   ]
  },
  {
   "cell_type": "code",
   "execution_count": 111,
   "metadata": {},
   "outputs": [
    {
     "data": {
      "text/plain": [
       "(None, None)"
      ]
     },
     "execution_count": 111,
     "metadata": {},
     "output_type": "execute_result"
    }
   ],
   "source": [
    "#Plotting the karate club datases\n",
    "netwulf.interactive.visualize(karclub_data,config={\"Node color\": \"color\"})"
   ]
  },
  {
   "attachments": {},
   "cell_type": "markdown",
   "metadata": {},
   "source": [
    "## Exercise 2"
   ]
  },
  {
   "cell_type": "code",
   "execution_count": null,
   "metadata": {},
   "outputs": [],
   "source": []
  },
  {
   "cell_type": "code",
   "execution_count": 126,
   "metadata": {},
   "outputs": [],
   "source": [
    "#Modularity function\n",
    "\n",
    "def Modularity(graph,communities):\n",
    "    # Inputs : Networkx Graph\n",
    "    # Output : Modularity of given Networkx Graph\n",
    "    m = graph.number_of_edges()\n",
    "    Q = 0\n",
    "    for community in communities:\n",
    "        E = 0\n",
    "        A = 0\n",
    "        for node in community:\n",
    "            E +=graph.degree[node]\n",
    "            for neighbor in graph.neighbors(node):\n",
    "                if neighbor in community:\n",
    "                    A += 1\n",
    "        Q += (A - (E * E) / (2 * m)) / (2 * m)\n",
    "    return Q\n",
    "    \n",
    "    return modularity"
   ]
  },
  {
   "cell_type": "code",
   "execution_count": 127,
   "metadata": {},
   "outputs": [
    {
     "data": {
      "text/plain": [
       "0.3582347140039448"
      ]
     },
     "execution_count": 127,
     "metadata": {},
     "output_type": "execute_result"
    }
   ],
   "source": [
    "Modularity(karclub_data,clubs)"
   ]
  }
 ],
 "metadata": {
  "kernelspec": {
   "display_name": "base",
   "language": "python",
   "name": "python3"
  },
  "language_info": {
   "codemirror_mode": {
    "name": "ipython",
    "version": 3
   },
   "file_extension": ".py",
   "mimetype": "text/x-python",
   "name": "python",
   "nbconvert_exporter": "python",
   "pygments_lexer": "ipython3",
   "version": "3.8.5"
  },
  "orig_nbformat": 4
 },
 "nbformat": 4,
 "nbformat_minor": 2
}
