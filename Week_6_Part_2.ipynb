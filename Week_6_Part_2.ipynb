{
 "cells": [
  {
   "attachments": {},
   "cell_type": "markdown",
   "metadata": {},
   "source": [
    "# Part 2"
   ]
  },
  {
   "cell_type": "code",
   "execution_count": 23,
   "metadata": {},
   "outputs": [],
   "source": [
    "#Imports Section\n",
    "\n",
    "import networkx as nx\n",
    "import numpy as np\n",
    "from tqdm import tqdm\n",
    "import netwulf\n",
    "import random\n",
    "import copy\n",
    "import matplotlib.pyplot as plt\n",
    "import community"
   ]
  },
  {
   "attachments": {},
   "cell_type": "markdown",
   "metadata": {},
   "source": [
    "## Exercise 1"
   ]
  },
  {
   "cell_type": "code",
   "execution_count": 2,
   "metadata": {},
   "outputs": [],
   "source": [
    "#Defining the karateclub data as a function\n",
    "\n",
    "karclub_data = nx.karate_club_graph()"
   ]
  },
  {
   "cell_type": "code",
   "execution_count": 3,
   "metadata": {},
   "outputs": [],
   "source": [
    "#Setting the color of each node based on the club split\n",
    "\n",
    "karclub_data\n",
    "club_membership = nx.get_node_attributes(karclub_data, \"club\")"
   ]
  },
  {
   "cell_type": "code",
   "execution_count": 216,
   "metadata": {},
   "outputs": [],
   "source": [
    "#setting the colors of different club nodes\n",
    "colors = {}\n",
    "clubs = []#For use later\n",
    "mrhi_members = []\n",
    "officer_members = []\n",
    "\n",
    "for node in range(len(karclub_data.nodes)):\n",
    "    if club_membership[node] == 'Mr. Hi': \n",
    "        colors[node] = \"blue\"\n",
    "        mrhi_members.append(node)\n",
    "    else:\n",
    "        colors[node] = \"red\"\n",
    "        officer_members.append(node)\n",
    "\n",
    "clubs.append(mrhi_members)\n",
    "clubs.append(officer_members)\n",
    "nx.set_node_attributes(karclub_data,colors,\"color\")"
   ]
  },
  {
   "cell_type": "code",
   "execution_count": 217,
   "metadata": {},
   "outputs": [
    {
     "data": {
      "text/plain": [
       "(None, None)"
      ]
     },
     "execution_count": 217,
     "metadata": {},
     "output_type": "execute_result"
    }
   ],
   "source": [
    "#Plotting the karate club datases\n",
    "netwulf.interactive.visualize(karclub_data,config={\"Node color\": \"color\"})"
   ]
  },
  {
   "attachments": {},
   "cell_type": "markdown",
   "metadata": {},
   "source": [
    "## Exercise 2"
   ]
  },
  {
   "cell_type": "code",
   "execution_count": 218,
   "metadata": {},
   "outputs": [],
   "source": [
    "#Modularity function\n",
    "\n",
    "def modularity(G, communities):\n",
    "    \"\"\"\n",
    "    Compute the modularity for a communities of a graph.\n",
    "\n",
    "    Parameters:\n",
    "        - G: the NetworkX graph\n",
    "        - communities: a list of communities, where each community is a list of node IDs\n",
    "\n",
    "    Returns:\n",
    "        - M: the modularity value for the communities\n",
    "    \"\"\"\n",
    "    \n",
    "    total_links = G.number_of_edges()\n",
    "    num_of_communities = len(communities)\n",
    "    links_in_community = {c: 0 for c in range(num_of_communities)}\n",
    "    tot_degree = {c: 0 for c in range(num_of_communities)}\n",
    "\n",
    "    #Calculating the number of links in each community\n",
    "    for (u, v) in G.edges():\n",
    "        u_c = None\n",
    "        v_c = None\n",
    "        for i, c in enumerate(communities):\n",
    "            if u in c:\n",
    "                u_c = i\n",
    "            if v in c:\n",
    "                v_c = i\n",
    "            if u_c is not None and v_c is not None:\n",
    "                break\n",
    "        if u_c == v_c:\n",
    "            links_in_community[u_c] += 1\n",
    "\n",
    "    #Calculating the total degree in each community\n",
    "    for u in G.nodes():\n",
    "        for i, c in enumerate(communities):\n",
    "            if u in c:\n",
    "                tot_degree[i] += G.degree(u)\n",
    "                break\n",
    "\n",
    "    M = 0.0\n",
    "    for n_c in range(num_of_communities):\n",
    "        M += (links_in_community[n_c] / total_links) - ((tot_degree[n_c] / (2 * total_links)) ** 2)\n",
    "\n",
    "    return M\n",
    "\n"
   ]
  },
  {
   "attachments": {},
   "cell_type": "markdown",
   "metadata": {},
   "source": [
    "## Exercise 3 : Explain in your own words the concept of modularity"
   ]
  },
  {
   "attachments": {},
   "cell_type": "markdown",
   "metadata": {},
   "source": [
    "The modularity formula used above tells us, in a sense, the degree to which the network is modular. Hence, it measures the difference between the number of edges within the community, and the expected number of edges given a random distribution. If the value is positibe, we see more edges in the community than we would expected at random, and vice verca for the negative value. The value ranges from -1 to 1. If it is close to one, we likely have a dense community structure, and if it is close to -1, we perhaps have a more homogenous structure without any clear structure. Modularity is a useful metric in the analysis of complex networks for this reason."
   ]
  },
  {
   "attachments": {},
   "cell_type": "markdown",
   "metadata": {},
   "source": [
    "## Exercise 4 : Modularity of karate club dataset"
   ]
  },
  {
   "cell_type": "code",
   "execution_count": 316,
   "metadata": {},
   "outputs": [],
   "source": [
    "kar_club_modularity = modularity(karclub_data,clubs)"
   ]
  },
  {
   "attachments": {},
   "cell_type": "markdown",
   "metadata": {},
   "source": [
    "## Exercise 5 : Randomization experiment, significant difference from 0"
   ]
  },
  {
   "cell_type": "code",
   "execution_count": 278,
   "metadata": {},
   "outputs": [],
   "source": [
    "#Random Edge swap function\n",
    "\n",
    "def edge_swap(G, N):\n",
    "    \"\"\"\n",
    "    create a copy of G with N swapped edges\n",
    "\n",
    "    Parameters:\n",
    "        - G: the given graph\n",
    "        - N: how many edges we want swapped\n",
    "\n",
    "    Returns:\n",
    "        - G_copy: a copy of graph g with N edges swapped at random\n",
    "    \"\"\"\n",
    "    \n",
    "    # Make a copy of the original network\n",
    "    G_copy = copy.deepcopy(G)\n",
    "    \n",
    "    # Determine the number of edges in the graph\n",
    "    num_edges = G.number_of_edges()\n",
    "    \n",
    "    # Perform at least N edge swaps\n",
    "    edges_swapped = 0\n",
    "    while edges_swapped <= N:\n",
    "        # Choose two random edges\n",
    "        u, v = random.sample(G_copy.edges(), 1)[0]\n",
    "        x, y = random.sample(G_copy.edges(), 1)[0]\n",
    "        # Check that the edges are distinct\n",
    "        if u != v and v != x:\n",
    "            # Check if the edges (u,y) and (x,v) exist\n",
    "            if not G_copy.has_edge(u, y) and not G_copy.has_edge(x, v):\n",
    "                # Swap the edges \n",
    "                G_copy.remove_edge(u, v)\n",
    "                G_copy.remove_edge(x, y)\n",
    "                G_copy.add_edge(u, y)\n",
    "                G_copy.add_edge(x, v)\n",
    "\n",
    "                #Counter for number of swaps\n",
    "                edges_swapped += 1\n",
    "\n",
    "    return G_copy"
   ]
  },
  {
   "attachments": {},
   "cell_type": "markdown",
   "metadata": {},
   "source": [
    "## Exercise 6 : Double Check Algorithm"
   ]
  },
  {
   "cell_type": "code",
   "execution_count": 288,
   "metadata": {},
   "outputs": [],
   "source": [
    "#looping to see if every node has the same degree\n",
    "\n",
    "karclub_random = edge_swap(karclub_data, 100)\n",
    "\n",
    "for i in karclub_data.nodes():\n",
    "    #If the loop does not return anything, all the degrees are the same\n",
    "    \n",
    "    if karclub_data.degree(i) == karclub_random.degree[i]:\n",
    "        pass\n",
    "    else:\n",
    "        print(\"There is a node with a different degree!\")\n",
    "    "
   ]
  },
  {
   "attachments": {},
   "cell_type": "markdown",
   "metadata": {},
   "source": [
    "## Exercise 7 : 1000 randomized modularities"
   ]
  },
  {
   "cell_type": "code",
   "execution_count": 299,
   "metadata": {},
   "outputs": [
    {
     "name": "stderr",
     "output_type": "stream",
     "text": [
      "100%|██████████| 1000/1000 [01:29<00:00, 11.12it/s]\n"
     ]
    }
   ],
   "source": [
    "#Set seed in the interest of repeatability\n",
    "random.seed(69420)\n",
    "#A list that will contain a thousand randomized modularities\n",
    "rand_modularities = []\n",
    "\n",
    "#The loop that produces a thousand edge swapped datasets, and appends them to rand_modularities\n",
    "#Here we use the previously defined modularity and edge_swap funtions\n",
    "for i in tqdm(range(1000)):\n",
    "    rand_karclub = edge_swap(karclub_data, 100)\n",
    "    rand_modularities.append(modularity(rand_karclub,clubs))\n"
   ]
  },
  {
   "attachments": {},
   "cell_type": "markdown",
   "metadata": {},
   "source": [
    "## Exercise 8 : Standard deviation and average of the random network"
   ]
  },
  {
   "cell_type": "code",
   "execution_count": 305,
   "metadata": {},
   "outputs": [
    {
     "name": "stdout",
     "output_type": "stream",
     "text": [
      "The mean of the thousand edge swapped modularities is -0.08684220907297836\n",
      "The standard deviation of the thousand edge swapped modularities is 0.044291752830931085\n"
     ]
    }
   ],
   "source": [
    "mean_rand_mods = np.mean(rand_modularities)\n",
    "std_rand_mods = np.std(rand_modularities)\n",
    "\n",
    "print(\"The mean of the thousand edge swapped modularities is \" + str(mean_rand_mods))\n",
    "print(\"The standard deviation of the thousand edge swapped modularities is \" + str(std_rand_mods))"
   ]
  },
  {
   "attachments": {},
   "cell_type": "markdown",
   "metadata": {},
   "source": [
    "## Exercise 9 : Plot the distribution of random modularities, and the actual modularity "
   ]
  },
  {
   "cell_type": "code",
   "execution_count": 322,
   "metadata": {},
   "outputs": [
    {
     "data": {
      "image/png": "[encoded data removed]",
      "text/plain": [
       "<Figure size 640x480 with 1 Axes>"
      ]
     },
     "metadata": {},
     "output_type": "display_data"
    }
   ],
   "source": [
    "\"Plotting a histogram over the distribution values for\"\n",
    "\n",
    "plt.hist(rand_modularities, edgecolor='black')\n",
    "plt.xlabel('Modularity')\n",
    "plt.ylabel('Count')\n",
    "plt.title('Histogram over modularities')\n",
    "plt.axvline(x=kar_club_modularity, color = \"red\")\n",
    "plt.show()"
   ]
  },
  {
   "attachments": {},
   "cell_type": "markdown",
   "metadata": {},
   "source": [
    "## Exercise 10 : Comment on above figure. Is club split a good partitioning? Why did we do the randomization experiment? What is the reason of preserving the nodes degree?"
   ]
  },
  {
   "attachments": {},
   "cell_type": "markdown",
   "metadata": {},
   "source": [
    "As we can see, the karate club dataset partitioning is significantly different from the random modularities generated by the randomization experiment, which tells us that we have a good partitioning. \n",
    "\n",
    "The point of prserving the nodes degree is to ensure any change was due to a difference in edge distribution, rather than a change in the structure of the network. Changing the degree distribution can significantly change the structure of the network. However, if we simply move some edges around while preserving the degree distribution, we ensure the change is not due to a change in the degree distribution. The point of the randomization experiment is to test the modularity of the network, to see if it is significantly different from what we would see if the edges we're formed at random, given the same degree distribution.\n",
    "\n",
    "### Check this later ***"
   ]
  },
  {
   "attachments": {},
   "cell_type": "markdown",
   "metadata": {},
   "source": [
    "## Exercise 11 : Use Louvain-algorithm implementation (by python) to find communities. Calculate modularity. Is it lower or higher than the club split? What does the comparison reveal?"
   ]
  },
  {
   "cell_type": "code",
   "execution_count": 7,
   "metadata": {},
   "outputs": [],
   "source": [
    "\n",
    "def louvain_communities(G):\n",
    "    # Use the louvain method to find communities\n",
    "    partition = community.best_partition(G)\n",
    "    \n",
    "    # Reformat the partitioning\n",
    "    communities = {}\n",
    "    for node, community_id in partition.items():\n",
    "        if community_id in communities:\n",
    "            communities[community_id].append(node)\n",
    "        else:\n",
    "            communities[community_id] = [node]\n",
    "    \n",
    "    return list(communities.values())"
   ]
  },
  {
   "cell_type": "code",
   "execution_count": 8,
   "metadata": {},
   "outputs": [
    {
     "ename": "AttributeError",
     "evalue": "module 'community' has no attribute 'best_partition'",
     "output_type": "error",
     "traceback": [
      "\u001b[1;31m---------------------------------------------------------------------------\u001b[0m",
      "\u001b[1;31mAttributeError\u001b[0m                            Traceback (most recent call last)",
      "Cell \u001b[1;32mIn[8], line 1\u001b[0m\n\u001b[1;32m----> 1\u001b[0m louvain_communities(karclub_data)\n",
      "Cell \u001b[1;32mIn[7], line 3\u001b[0m, in \u001b[0;36mlouvain_communities\u001b[1;34m(G)\u001b[0m\n\u001b[0;32m      1\u001b[0m \u001b[39mdef\u001b[39;00m \u001b[39mlouvain_communities\u001b[39m(G):\n\u001b[0;32m      2\u001b[0m     \u001b[39m# Use the louvain method to find communities\u001b[39;00m\n\u001b[1;32m----> 3\u001b[0m     partition \u001b[39m=\u001b[39m community\u001b[39m.\u001b[39;49mbest_partition(G)\n\u001b[0;32m      5\u001b[0m     \u001b[39m# Reformat the partitioning\u001b[39;00m\n\u001b[0;32m      6\u001b[0m     communities \u001b[39m=\u001b[39m {}\n",
      "\u001b[1;31mAttributeError\u001b[0m: module 'community' has no attribute 'best_partition'"
     ]
    }
   ],
   "source": [
    "louvain_communities(karclub_data)"
   ]
  },
  {
   "attachments": {},
   "cell_type": "markdown",
   "metadata": {},
   "source": [
    "## Exercise 12 : compare the communities of louvain and club split with a matrix D (2 times number of communities found by Louvain). We set D(i,j) to the number of nodes that community i has in common with club split j. The matrix D is a confusion matrix. Use it to explain how well the communities you've detected correspond to the club split partitioning."
   ]
  }
 ],
 "metadata": {
  "kernelspec": {
   "display_name": "base",
   "language": "python",
   "name": "python3"
  },
  "language_info": {
   "codemirror_mode": {
    "name": "ipython",
    "version": 3
   },
   "file_extension": ".py",
   "mimetype": "text/x-python",
   "name": "python",
   "nbconvert_exporter": "python",
   "pygments_lexer": "ipython3",
   "version": "3.8.5"
  },
  "orig_nbformat": 4
 },
 "nbformat": 4,
 "nbformat_minor": 2
}
