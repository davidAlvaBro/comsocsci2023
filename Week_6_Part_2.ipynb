{
 "cells": [
  {
   "attachments": {},
   "cell_type": "markdown",
   "metadata": {},
   "source": [
    "# Part 2"
   ]
  },
  {
   "cell_type": "code",
   "execution_count": 2,
   "metadata": {},
   "outputs": [],
   "source": [
    "#Imports Section\n",
    "\n",
    "import networkx as nx\n",
    "import numpy as np\n",
    "from tqdm import tqdm\n",
    "import netwulf\n",
    "import random\n",
    "import copy\n",
    "import matplotlib.pyplot as plt\n",
    "import community"
   ]
  },
  {
   "attachments": {},
   "cell_type": "markdown",
   "metadata": {},
   "source": [
    "## Exercise 1"
   ]
  },
  {
   "cell_type": "code",
   "execution_count": 3,
   "metadata": {},
   "outputs": [],
   "source": [
    "#Defining the karateclub data as a function\n",
    "\n",
    "karclub_data = nx.karate_club_graph()"
   ]
  },
  {
   "cell_type": "code",
   "execution_count": 4,
   "metadata": {},
   "outputs": [],
   "source": [
    "#Setting the color of each node based on the club split\n",
    "\n",
    "karclub_data\n",
    "club_membership = nx.get_node_attributes(karclub_data, \"club\")"
   ]
  },
  {
   "cell_type": "code",
   "execution_count": 5,
   "metadata": {},
   "outputs": [],
   "source": [
    "#setting the colors of different club nodes\n",
    "colors = {}\n",
    "clubs = []#For use later\n",
    "mrhi_members = []\n",
    "officer_members = []\n",
    "\n",
    "for node in range(len(karclub_data.nodes)):\n",
    "    if club_membership[node] == 'Mr. Hi': \n",
    "        colors[node] = \"blue\"\n",
    "        mrhi_members.append(node)\n",
    "    else:\n",
    "        colors[node] = \"red\"\n",
    "        officer_members.append(node)\n",
    "\n",
    "clubs.append(mrhi_members)\n",
    "clubs.append(officer_members)\n",
    "nx.set_node_attributes(karclub_data,colors,\"color\")"
   ]
  },
  {
   "cell_type": "code",
   "execution_count": 6,
   "metadata": {},
   "outputs": [
    {
     "data": {
      "text/plain": [
       "(None, None)"
      ]
     },
     "execution_count": 6,
     "metadata": {},
     "output_type": "execute_result"
    }
   ],
   "source": [
    "#Plotting the karate club datases\n",
    "netwulf.interactive.visualize(karclub_data,config={\"Node color\": \"color\"})"
   ]
  },
  {
   "attachments": {},
   "cell_type": "markdown",
   "metadata": {},
   "source": [
    "## Exercise 2"
   ]
  },
  {
   "cell_type": "code",
   "execution_count": 7,
   "metadata": {},
   "outputs": [],
   "source": [
    "#Modularity function\n",
    "\n",
    "def modularity(G, communities):\n",
    "    \"\"\"\n",
    "    Compute the modularity for a communities of a graph.\n",
    "\n",
    "    Parameters:\n",
    "        - G: the NetworkX graph\n",
    "        - communities: a list of communities, where each community is a list of node IDs\n",
    "\n",
    "    Returns:\n",
    "        - M: the modularity value for the communities\n",
    "    \"\"\"\n",
    "    \n",
    "    total_links = G.number_of_edges()\n",
    "    num_of_communities = len(communities)\n",
    "    links_in_community = {c: 0 for c in range(num_of_communities)}\n",
    "    tot_degree = {c: 0 for c in range(num_of_communities)}\n",
    "\n",
    "    #Calculating the number of links in each community\n",
    "    for (u, v) in G.edges():\n",
    "        u_c = None\n",
    "        v_c = None\n",
    "        for i, c in enumerate(communities):\n",
    "            if u in c:\n",
    "                u_c = i\n",
    "            if v in c:\n",
    "                v_c = i\n",
    "            if u_c is not None and v_c is not None:\n",
    "                break\n",
    "        if u_c == v_c:\n",
    "            links_in_community[u_c] += 1\n",
    "\n",
    "    #Calculating the total degree in each community\n",
    "    for u in G.nodes():\n",
    "        for i, c in enumerate(communities):\n",
    "            if u in c:\n",
    "                tot_degree[i] += G.degree(u)\n",
    "                break\n",
    "\n",
    "    M = 0.0\n",
    "    for n_c in range(num_of_communities):\n",
    "        M += (links_in_community[n_c] / total_links) - ((tot_degree[n_c] / (2 * total_links)) ** 2)\n",
    "\n",
    "    return M\n",
    "\n"
   ]
  },
  {
   "attachments": {},
   "cell_type": "markdown",
   "metadata": {},
   "source": [
    "## Exercise 3 : Explain in your own words the concept of modularity"
   ]
  },
  {
   "attachments": {},
   "cell_type": "markdown",
   "metadata": {},
   "source": [
    "The modularity formula used above tells us, in a sense, the degree to which the network is modular. Hence, it measures the difference between the number of edges within the community, and the expected number of edges given a random distribution. If the value is positibe, we see more edges in the community than we would expected at random, and vice verca for the negative value. The value ranges from -1 to 1. If it is close to one, we likely have a dense community structure, and if it is close to -1, we perhaps have a more homogenous structure without any clear structure. Modularity is a useful metric in the analysis of complex networks for this reason."
   ]
  },
  {
   "attachments": {},
   "cell_type": "markdown",
   "metadata": {},
   "source": [
    "## Exercise 4 : Modularity of karate club dataset"
   ]
  },
  {
   "cell_type": "code",
   "execution_count": 8,
   "metadata": {},
   "outputs": [],
   "source": [
    "kar_club_modularity = modularity(karclub_data,clubs)"
   ]
  },
  {
   "attachments": {},
   "cell_type": "markdown",
   "metadata": {},
   "source": [
    "## Exercise 5 : Randomization experiment, significant difference from 0"
   ]
  },
  {
   "cell_type": "code",
   "execution_count": 9,
   "metadata": {},
   "outputs": [],
   "source": [
    "#Random Edge swap function\n",
    "\n",
    "def edge_swap(G, N):\n",
    "    \"\"\"\n",
    "    create a copy of G with N swapped edges\n",
    "\n",
    "    Parameters:\n",
    "        - G: the given graph\n",
    "        - N: how many edges we want swapped\n",
    "\n",
    "    Returns:\n",
    "        - G_copy: a copy of graph g with N edges swapped at random\n",
    "    \"\"\"\n",
    "    \n",
    "    # Make a copy of the original network\n",
    "    G_copy = copy.deepcopy(G)\n",
    "    \n",
    "    # Determine the number of edges in the graph\n",
    "    num_edges = G.number_of_edges()\n",
    "    \n",
    "    # Perform at least N edge swaps\n",
    "    edges_swapped = 0\n",
    "    while edges_swapped <= N:\n",
    "        # Choose two random edges\n",
    "        u, v = random.sample(G_copy.edges(), 1)[0]\n",
    "        x, y = random.sample(G_copy.edges(), 1)[0]\n",
    "        # Check that the edges are distinct\n",
    "        if u != v and v != x:\n",
    "            # Check if the edges (u,y) and (x,v) exist\n",
    "            if not G_copy.has_edge(u, y) and not G_copy.has_edge(x, v):\n",
    "                # Swap the edges \n",
    "                G_copy.remove_edge(u, v)\n",
    "                G_copy.remove_edge(x, y)\n",
    "                G_copy.add_edge(u, y)\n",
    "                G_copy.add_edge(x, v)\n",
    "\n",
    "                #Counter for number of swaps\n",
    "                edges_swapped += 1\n",
    "\n",
    "    return G_copy"
   ]
  },
  {
   "attachments": {},
   "cell_type": "markdown",
   "metadata": {},
   "source": [
    "## Exercise 6 : Double Check Algorithm"
   ]
  },
  {
   "cell_type": "code",
   "execution_count": 10,
   "metadata": {},
   "outputs": [],
   "source": [
    "#looping to see if every node has the same degree\n",
    "\n",
    "karclub_random = edge_swap(karclub_data, 100)\n",
    "\n",
    "for i in karclub_data.nodes():\n",
    "    #If the loop does not return anything, all the degrees are the same\n",
    "    \n",
    "    if karclub_data.degree(i) == karclub_random.degree[i]:\n",
    "        pass\n",
    "    else:\n",
    "        print(\"There is a node with a different degree!\")\n",
    "    "
   ]
  },
  {
   "attachments": {},
   "cell_type": "markdown",
   "metadata": {},
   "source": [
    "## Exercise 7 : 1000 randomized modularities"
   ]
  },
  {
   "cell_type": "code",
   "execution_count": 11,
   "metadata": {},
   "outputs": [
    {
     "name": "stderr",
     "output_type": "stream",
     "text": [
      "100%|██████████| 1000/1000 [01:31<00:00, 10.87it/s]\n"
     ]
    }
   ],
   "source": [
    "#Set seed in the interest of repeatability\n",
    "random.seed(69420)\n",
    "#A list that will contain a thousand randomized modularities\n",
    "rand_modularities = []\n",
    "\n",
    "#The loop that produces a thousand edge swapped datasets, and appends them to rand_modularities\n",
    "#Here we use the previously defined modularity and edge_swap funtions\n",
    "for i in tqdm(range(1000)):\n",
    "    rand_karclub = edge_swap(karclub_data, 100)\n",
    "    rand_modularities.append(modularity(rand_karclub,clubs))\n"
   ]
  },
  {
   "attachments": {},
   "cell_type": "markdown",
   "metadata": {},
   "source": [
    "## Exercise 8 : Standard deviation and average of the random network"
   ]
  },
  {
   "cell_type": "code",
   "execution_count": 12,
   "metadata": {},
   "outputs": [
    {
     "name": "stdout",
     "output_type": "stream",
     "text": [
      "The mean of the thousand edge swapped modularities is -0.08684220907297836\n",
      "The standard deviation of the thousand edge swapped modularities is 0.044291752830931085\n"
     ]
    }
   ],
   "source": [
    "mean_rand_mods = np.mean(rand_modularities)\n",
    "std_rand_mods = np.std(rand_modularities)\n",
    "\n",
    "print(\"The mean of the thousand edge swapped modularities is \" + str(mean_rand_mods))\n",
    "print(\"The standard deviation of the thousand edge swapped modularities is \" + str(std_rand_mods))"
   ]
  },
  {
   "attachments": {},
   "cell_type": "markdown",
   "metadata": {},
   "source": [
    "## Exercise 9 : Plot the distribution of random modularities, and the actual modularity "
   ]
  },
  {
   "cell_type": "code",
   "execution_count": 13,
   "metadata": {},
   "outputs": [
    {
     "data": {
      "image/png": "[encoded data removed]",
      "text/plain": [
       "<Figure size 640x480 with 1 Axes>"
      ]
     },
     "metadata": {},
     "output_type": "display_data"
    }
   ],
   "source": [
    "\"Plotting a histogram over the distribution values for\"\n",
    "\n",
    "plt.hist(rand_modularities, edgecolor='black')\n",
    "plt.xlabel('Modularity')\n",
    "plt.ylabel('Count')\n",
    "plt.title('Histogram over modularities')\n",
    "plt.axvline(x=kar_club_modularity, color = \"red\")\n",
    "plt.show()"
   ]
  },
  {
   "attachments": {},
   "cell_type": "markdown",
   "metadata": {},
   "source": [
    "## Exercise 10 : Comment on above figure. Is club split a good partitioning? Why did we do the randomization experiment? What is the reason of preserving the nodes degree?"
   ]
  },
  {
   "attachments": {},
   "cell_type": "markdown",
   "metadata": {},
   "source": [
    "As we can see, the karate club dataset partitioning is significantly different from the random modularities generated by the randomization experiment, which tells us that we have a good partitioning. \n",
    "\n",
    "The point of prserving the nodes degree is to ensure any change was due to a difference in edge distribution, rather than a change in the structure of the network. Changing the degree distribution can significantly change the structure of the network. However, if we simply move some edges around while preserving the degree distribution, we ensure the change is not due to a change in the degree distribution. The point of the randomization experiment is to test the modularity of the network, to see if it is significantly different from what we would see if the edges we're formed at random, given the same degree distribution.\n",
    "\n",
    "### Check this later ***"
   ]
  },
  {
   "attachments": {},
   "cell_type": "markdown",
   "metadata": {},
   "source": [
    "## Exercise 11 : Use Louvain-algorithm implementation (by python) to find communities. Calculate modularity. Is it lower or higher than the club split? What does the comparison reveal?"
   ]
  },
  {
   "cell_type": "code",
   "execution_count": 28,
   "metadata": {},
   "outputs": [],
   "source": [
    "\n",
    "def louvain_communities(graph):\n",
    "    # Use the louvain method to find communities\n",
    "    partition = community.best_partition(graph) # community function that uses Louvain-algorithm\n",
    "    \n",
    "    # Reformat the partitioning\n",
    "    communities = {}\n",
    "    for node, community_id in partition.items():\n",
    "        if community_id in communities:\n",
    "            communities[community_id].append(node)\n",
    "        else:\n",
    "            communities[community_id] = [node]\n",
    "    \n",
    "    return list(communities.values())"
   ]
  },
  {
   "cell_type": "code",
   "execution_count": 29,
   "metadata": {},
   "outputs": [],
   "source": [
    "karclub_louvain_groups = louvain_communities(karclub_data)"
   ]
  },
  {
   "attachments": {},
   "cell_type": "markdown",
   "metadata": {},
   "source": [
    "## Exercise 12 : compare the communities of louvain and club split with a matrix D (2 times number of communities found by Louvain). We set D(i,j) to the number of nodes that community i has in common with club split j. The matrix D is a confusion matrix. Use it to explain how well the communities you've detected correspond to the club split partitioning."
   ]
  },
  {
   "cell_type": "code",
   "execution_count": 48,
   "metadata": {},
   "outputs": [],
   "source": [
    "def confusion_matrix(community1, community2):\n",
    "    \"\"\"\n",
    "    Creates an unweighted confusion matrix comparing two sets of communities.\n",
    "\n",
    "    Args:\n",
    "    - community1: a list of lists, where each inner list contains the nodes in a community\n",
    "    - community2: a list of lists, where each inner list contains the nodes in a community\n",
    "\n",
    "    Returns:\n",
    "    - confusion_matrix: a 2D list representing the confusion matrix\n",
    "    \"\"\"\n",
    "\n",
    "    # Get the number of communities in each list\n",
    "    n1 = len(community1)\n",
    "    n2 = len(community2)\n",
    "\n",
    "    # Create an empty confusion matrix with n1 rows and n2 columns\n",
    "    confusion_matrix = [[0] * n2 for _ in range(n1)]\n",
    "\n",
    "    # Loop over each community in community1\n",
    "    for i, c1 in enumerate(community1):\n",
    "        # Loop over each community in community2\n",
    "        for j, c2 in enumerate(community2):\n",
    "            # Count the number of nodes in common between the two communities\n",
    "            common_nodes = len(set(c1) & set(c2))\n",
    "            # Add the count to the confusion matrix\n",
    "            confusion_matrix[i][j] = common_nodes\n",
    "\n",
    "    # Print the confusion matrix\n",
    "    for row in confusion_matrix:\n",
    "        print(row)\n",
    "\n",
    "    return confusion_matrix"
   ]
  },
  {
   "cell_type": "code",
   "execution_count": 49,
   "metadata": {},
   "outputs": [
    {
     "name": "stdout",
     "output_type": "stream",
     "text": [
      "[11, 5, 1, 0]\n",
      "[0, 0, 11, 6]\n"
     ]
    },
    {
     "data": {
      "text/plain": [
       "[[11, 5, 1, 0], [0, 0, 11, 6]]"
      ]
     },
     "execution_count": 49,
     "metadata": {},
     "output_type": "execute_result"
    }
   ],
   "source": [
    "confusion_matrix(clubs,karclub_louvain_groups)"
   ]
  },
  {
   "attachments": {},
   "cell_type": "markdown",
   "metadata": {},
   "source": [
    "It would seem that Louvain followed almost the same distribution as clubs, however, it did split it further into subgroups, splitting the two clubs into four groups, each with a larger and smaller partitioning."
   ]
  },
  {
   "attachments": {},
   "cell_type": "markdown",
   "metadata": {},
   "source": [
    "# Exercise 4 : Community detection on the network of Computational Social Scientists."
   ]
  },
  {
   "attachments": {},
   "cell_type": "markdown",
   "metadata": {},
   "source": [
    "## Use Louvain-algorithm. How many communities, what sizes and the modularity found. Is it significantly bigger than zero."
   ]
  },
  {
   "cell_type": "code",
   "execution_count": 81,
   "metadata": {},
   "outputs": [],
   "source": [
    "#Importing the graph and removing all the no edge data\n",
    "CSS_graph = nx.read_graphml('CSS_graph.graphml')\n",
    "CSS_graph_cc = sorted(nx.connected_components(CSS_graph), key=len, reverse=True)\n",
    "giant = CSS_graph.subgraph(CSS_graph_cc[0])"
   ]
  },
  {
   "cell_type": "code",
   "execution_count": 86,
   "metadata": {},
   "outputs": [],
   "source": [
    "CSS_louvain_groups = louvain_communities(giant)"
   ]
  },
  {
   "cell_type": "code",
   "execution_count": 87,
   "metadata": {},
   "outputs": [],
   "source": [
    "CSS_modularity = modularity(giant, CSS_louvain_groups)"
   ]
  },
  {
   "cell_type": "code",
   "execution_count": 103,
   "metadata": {},
   "outputs": [
    {
     "name": "stdout",
     "output_type": "stream",
     "text": [
      "The modularity of the CSS graph is 0.8671920605046567\n",
      "There are 67 communities\n"
     ]
    }
   ],
   "source": [
    "print(\"The modularity of the CSS graph is \" + str(CSS_modularity))\n",
    "print(\"There are \" + str(len(CSS_louvain_groups)) + \" communities\")"
   ]
  },
  {
   "cell_type": "code",
   "execution_count": 105,
   "metadata": {},
   "outputs": [
    {
     "name": "stdout",
     "output_type": "stream",
     "text": [
      " -- Below is a histogram of the sizes of the communities -- \n"
     ]
    },
    {
     "data": {
      "text/plain": [
       "Text(0.5, 1.0, 'Histogram of List of List Lengths')"
      ]
     },
     "execution_count": 105,
     "metadata": {},
     "output_type": "execute_result"
    },
    {
     "data": {
      "image/png": "[encoded data removed]",
      "text/plain": [
       "<Figure size 640x480 with 1 Axes>"
      ]
     },
     "metadata": {},
     "output_type": "display_data"
    }
   ],
   "source": [
    "print(\" -- Below is a histogram of the sizes of the communities -- \")\n",
    "community_sizes = [len(sublist) for sublist in CSS_louvain_groups]\n",
    "plt.hist(community_sizes, bins = 15)\n",
    "plt.xlabel('Length of Sublists')\n",
    "plt.ylabel('Frequency')\n",
    "plt.xticks(range(min(community_sizes), max(community_sizes)+1))\n",
    "plt.title('Histogram of List of List Lengths')\n"
   ]
  },
  {
   "attachments": {},
   "cell_type": "markdown",
   "metadata": {},
   "source": [
    "Is it significantly bigger than 0?\n",
    "\n",
    "We can see that it is very close to 1, which tells us that it is very likely that it is significantly above 0. However, it may still be worth doing a 1000 fold randomization of models as we did before."
   ]
  },
  {
   "cell_type": "code",
   "execution_count": 111,
   "metadata": {},
   "outputs": [
    {
     "name": "stderr",
     "output_type": "stream",
     "text": [
      "  0%|          | 0/1 [00:00<?, ?it/s]"
     ]
    }
   ],
   "source": [
    "#Set seed in the interest of repeatability\n",
    "random.seed(69420)\n",
    "#A list that will contain a thousand randomized modularities\n",
    "rand_modularities_2 = []\n",
    "\n",
    "#The loop that produces a thousand edge swapped datasets, and appends them to rand_modularities\n",
    "#Here we use the previously defined modularity and edge_swap funtions\n",
    "giant_unfrozen = nx.Graph(giant)\n",
    "for i in tqdm(range(1)):\n",
    "    rand_giant = edge_swap(giant_unfrozen, 13046)\n",
    "    rand_modularities_2.append(modularity(rand_karclub,giant))"
   ]
  }
 ],
 "metadata": {
  "kernelspec": {
   "display_name": "base",
   "language": "python",
   "name": "python3"
  },
  "language_info": {
   "codemirror_mode": {
    "name": "ipython",
    "version": 3
   },
   "file_extension": ".py",
   "mimetype": "text/x-python",
   "name": "python",
   "nbconvert_exporter": "python",
   "pygments_lexer": "ipython3",
   "version": "3.8.16"
  },
  "orig_nbformat": 4
 },
 "nbformat": 4,
 "nbformat_minor": 2
}
