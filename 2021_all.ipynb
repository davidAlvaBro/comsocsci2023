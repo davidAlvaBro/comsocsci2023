{
 "cells": [
  {
   "cell_type": "code",
   "execution_count": 2,
   "metadata": {},
   "outputs": [],
   "source": [
    "# Start up and get content of the first link\n",
    "from bs4 import BeautifulSoup as bs \n",
    "import requests\n",
    "import re\n",
    "\n",
    "link = \"https://easychair.org/smart-program/IC2S2-2021/talk_author_index.html\"\n",
    "\n",
    "request = requests.get(link)\n",
    "\n",
    "soup = bs(request.content)"
   ]
  },
  {
   "cell_type": "code",
   "execution_count": 3,
   "metadata": {},
   "outputs": [
    {
     "name": "stdout",
     "output_type": "stream",
     "text": [
      "716\n",
      "692\n"
     ]
    }
   ],
   "source": [
    "contents = soup.find(\"table\", \"index\")\n",
    "contents = contents.find_all(\"tr\") \n",
    "\n",
    "# print(len(contents))\n",
    "# Silly body regex ting \n",
    "regex_compiler = re.compile(\"\\>(.*?)\\<\")\n",
    "\n",
    "names = set()\n",
    "counter = 0\n",
    "\n",
    "for content in contents: \n",
    "    person = str(content.find_all(\"td\")[0])\n",
    "    # print(person)\n",
    "    titles = regex_compiler.findall(person)[2:-1]\n",
    "    if len(titles) == 2:\n",
    "        name = titles[1] + \" \" + titles[0]\n",
    "        name = name.replace(\",\", \"\")\n",
    "        name = name.strip()\n",
    "        \n",
    "        names.add(name) \n",
    "        counter +=1\n",
    "\n",
    "print(counter)\n",
    "print(len(names))\n",
    "\n",
    "\n",
    "    "
   ]
  }
 ],
 "metadata": {
  "kernelspec": {
   "display_name": "Python 3.9.7 ('base')",
   "language": "python",
   "name": "python3"
  },
  "language_info": {
   "codemirror_mode": {
    "name": "ipython",
    "version": 3
   },
   "file_extension": ".py",
   "mimetype": "text/x-python",
   "name": "python",
   "nbconvert_exporter": "python",
   "pygments_lexer": "ipython3",
   "version": "3.9.7"
  },
  "orig_nbformat": 4,
  "vscode": {
   "interpreter": {
    "hash": "4eedd9fc418f36e2614580cbf31de2386521dabe9ec8a80375aa0fadc40a33bd"
   }
  }
 },
 "nbformat": 4,
 "nbformat_minor": 2
}
